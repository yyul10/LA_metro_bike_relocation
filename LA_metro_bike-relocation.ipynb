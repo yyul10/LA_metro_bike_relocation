{
 "cells": [
  {
   "cell_type": "code",
   "execution_count": 1,
   "metadata": {},
   "outputs": [],
   "source": [
    "import glob, os\n",
    "import numpy as np\n",
    "import pandas as pd\n",
    "import matplotlib.pyplot as plt\n",
    "import geopy.distance\n",
    "import sklearn\n",
    "import warnings\n",
    "warnings.filterwarnings('ignore')"
   ]
  },
  {
   "cell_type": "markdown",
   "metadata": {},
   "source": [
    "### EDA,  Data Preprocessing"
   ]
  },
  {
   "cell_type": "code",
   "execution_count": 2,
   "metadata": {
    "scrolled": false
   },
   "outputs": [],
   "source": [
    "data_raw = pd.read_csv('/Users/yul/Desktop/Github Fetch/LA_metro_bike_relocation/metro-bike-share-trip-data.csv')\n",
    "data_raw = data_raw.dropna(axis=0, how='any')"
   ]
  },
  {
   "cell_type": "code",
   "execution_count": 3,
   "metadata": {
    "scrolled": true
   },
   "outputs": [
    {
     "data": {
      "text/plain": [
       "Monthly Pass    60093\n",
       "Walk-up         30532\n",
       "Flex Pass        7200\n",
       "Name: Passholder Type, dtype: int64"
      ]
     },
     "execution_count": 3,
     "metadata": {},
     "output_type": "execute_result"
    }
   ],
   "source": [
    "# Number of each passholder types\n",
    "mask = data_raw[data_raw['Passholder Type'] == 'Staff Annual'].index\n",
    "data_raw.drop(mask,inplace=True)\n",
    "data_raw['Passholder Type'].value_counts()"
   ]
  },
  {
   "cell_type": "code",
   "execution_count": 4,
   "metadata": {},
   "outputs": [
    {
     "data": {
      "text/plain": [
       "One Way    88266\n",
       "Name: Trip Route Category, dtype: int64"
      ]
     },
     "execution_count": 4,
     "metadata": {},
     "output_type": "execute_result"
    }
   ],
   "source": [
    "# Delete Round-Trip categories.\n",
    "mask = data_raw[data_raw['Trip Route Category'] == 'Round Trip'].index\n",
    "data_raw.drop(mask,inplace=True)\n",
    "data_raw['Trip Route Category'].value_counts()"
   ]
  },
  {
   "cell_type": "code",
   "execution_count": 5,
   "metadata": {},
   "outputs": [
    {
     "data": {
      "text/plain": [
       "1    64025\n",
       "0    24241\n",
       "Name: Passholder Type, dtype: int64"
      ]
     },
     "execution_count": 5,
     "metadata": {},
     "output_type": "execute_result"
    }
   ],
   "source": [
    "# Replace passholder types to walk-up(0) and passes (1)\n",
    "ndata = data_raw.copy()\n",
    "temp = {'Walk-up':0,'Monthly Pass':1,'Flex Pass':1}\n",
    "ndata = ndata.replace(temp)\n",
    "ndata['Passholder Type'].value_counts()"
   ]
  },
  {
   "cell_type": "code",
   "execution_count": 6,
   "metadata": {
    "scrolled": true
   },
   "outputs": [
    {
     "data": {
      "text/html": [
       "<div>\n",
       "<style scoped>\n",
       "    .dataframe tbody tr th:only-of-type {\n",
       "        vertical-align: middle;\n",
       "    }\n",
       "\n",
       "    .dataframe tbody tr th {\n",
       "        vertical-align: top;\n",
       "    }\n",
       "\n",
       "    .dataframe thead th {\n",
       "        text-align: right;\n",
       "    }\n",
       "</style>\n",
       "<table border=\"1\" class=\"dataframe\">\n",
       "  <thead>\n",
       "    <tr style=\"text-align: right;\">\n",
       "      <th></th>\n",
       "      <th>Duration</th>\n",
       "      <th>Start Time</th>\n",
       "      <th>Starting Station ID</th>\n",
       "      <th>Ending Station ID</th>\n",
       "      <th>Passholder Type</th>\n",
       "      <th>Distance</th>\n",
       "    </tr>\n",
       "  </thead>\n",
       "  <tbody>\n",
       "    <tr>\n",
       "      <th>5</th>\n",
       "      <td>780</td>\n",
       "      <td>2016-07-07T12:51:00</td>\n",
       "      <td>3021.0</td>\n",
       "      <td>3054.0</td>\n",
       "      <td>1</td>\n",
       "      <td>0.624264</td>\n",
       "    </tr>\n",
       "    <tr>\n",
       "      <th>6</th>\n",
       "      <td>600</td>\n",
       "      <td>2016-07-07T12:54:00</td>\n",
       "      <td>3022.0</td>\n",
       "      <td>3014.0</td>\n",
       "      <td>1</td>\n",
       "      <td>1.080226</td>\n",
       "    </tr>\n",
       "    <tr>\n",
       "      <th>7</th>\n",
       "      <td>600</td>\n",
       "      <td>2016-07-07T12:59:00</td>\n",
       "      <td>3076.0</td>\n",
       "      <td>3005.0</td>\n",
       "      <td>1</td>\n",
       "      <td>0.882587</td>\n",
       "    </tr>\n",
       "    <tr>\n",
       "      <th>9</th>\n",
       "      <td>960</td>\n",
       "      <td>2016-07-07T13:01:00</td>\n",
       "      <td>3031.0</td>\n",
       "      <td>3078.0</td>\n",
       "      <td>1</td>\n",
       "      <td>2.200235</td>\n",
       "    </tr>\n",
       "    <tr>\n",
       "      <th>10</th>\n",
       "      <td>960</td>\n",
       "      <td>2016-07-07T13:02:00</td>\n",
       "      <td>3031.0</td>\n",
       "      <td>3047.0</td>\n",
       "      <td>1</td>\n",
       "      <td>1.222394</td>\n",
       "    </tr>\n",
       "    <tr>\n",
       "      <th>11</th>\n",
       "      <td>720</td>\n",
       "      <td>2016-07-07T13:03:00</td>\n",
       "      <td>3063.0</td>\n",
       "      <td>3005.0</td>\n",
       "      <td>1</td>\n",
       "      <td>0.508537</td>\n",
       "    </tr>\n",
       "    <tr>\n",
       "      <th>12</th>\n",
       "      <td>360</td>\n",
       "      <td>2016-07-07T13:03:00</td>\n",
       "      <td>3042.0</td>\n",
       "      <td>3030.0</td>\n",
       "      <td>1</td>\n",
       "      <td>0.461304</td>\n",
       "    </tr>\n",
       "    <tr>\n",
       "      <th>14</th>\n",
       "      <td>660</td>\n",
       "      <td>2016-07-07T13:04:00</td>\n",
       "      <td>3054.0</td>\n",
       "      <td>3030.0</td>\n",
       "      <td>1</td>\n",
       "      <td>1.365098</td>\n",
       "    </tr>\n",
       "    <tr>\n",
       "      <th>15</th>\n",
       "      <td>480</td>\n",
       "      <td>2016-07-07T13:04:00</td>\n",
       "      <td>3031.0</td>\n",
       "      <td>3076.0</td>\n",
       "      <td>1</td>\n",
       "      <td>0.415487</td>\n",
       "    </tr>\n",
       "    <tr>\n",
       "      <th>16</th>\n",
       "      <td>2100</td>\n",
       "      <td>2016-07-07T13:06:00</td>\n",
       "      <td>3006.0</td>\n",
       "      <td>3033.0</td>\n",
       "      <td>1</td>\n",
       "      <td>0.449118</td>\n",
       "    </tr>\n",
       "    <tr>\n",
       "      <th>17</th>\n",
       "      <td>600</td>\n",
       "      <td>2016-07-07T13:07:00</td>\n",
       "      <td>3018.0</td>\n",
       "      <td>3007.0</td>\n",
       "      <td>1</td>\n",
       "      <td>0.797033</td>\n",
       "    </tr>\n",
       "    <tr>\n",
       "      <th>18</th>\n",
       "      <td>420</td>\n",
       "      <td>2016-07-07T13:07:00</td>\n",
       "      <td>3014.0</td>\n",
       "      <td>3016.0</td>\n",
       "      <td>1</td>\n",
       "      <td>0.505343</td>\n",
       "    </tr>\n",
       "    <tr>\n",
       "      <th>19</th>\n",
       "      <td>960</td>\n",
       "      <td>2016-07-07T13:07:00</td>\n",
       "      <td>3037.0</td>\n",
       "      <td>3063.0</td>\n",
       "      <td>1</td>\n",
       "      <td>2.241757</td>\n",
       "    </tr>\n",
       "    <tr>\n",
       "      <th>20</th>\n",
       "      <td>1320</td>\n",
       "      <td>2016-07-07T13:07:00</td>\n",
       "      <td>3018.0</td>\n",
       "      <td>3068.0</td>\n",
       "      <td>1</td>\n",
       "      <td>1.186297</td>\n",
       "    </tr>\n",
       "    <tr>\n",
       "      <th>21</th>\n",
       "      <td>1200</td>\n",
       "      <td>2016-07-07T13:08:00</td>\n",
       "      <td>3063.0</td>\n",
       "      <td>3014.0</td>\n",
       "      <td>1</td>\n",
       "      <td>1.458546</td>\n",
       "    </tr>\n",
       "  </tbody>\n",
       "</table>\n",
       "</div>"
      ],
      "text/plain": [
       "    Duration           Start Time  Starting Station ID  Ending Station ID  \\\n",
       "5        780  2016-07-07T12:51:00               3021.0             3054.0   \n",
       "6        600  2016-07-07T12:54:00               3022.0             3014.0   \n",
       "7        600  2016-07-07T12:59:00               3076.0             3005.0   \n",
       "9        960  2016-07-07T13:01:00               3031.0             3078.0   \n",
       "10       960  2016-07-07T13:02:00               3031.0             3047.0   \n",
       "11       720  2016-07-07T13:03:00               3063.0             3005.0   \n",
       "12       360  2016-07-07T13:03:00               3042.0             3030.0   \n",
       "14       660  2016-07-07T13:04:00               3054.0             3030.0   \n",
       "15       480  2016-07-07T13:04:00               3031.0             3076.0   \n",
       "16      2100  2016-07-07T13:06:00               3006.0             3033.0   \n",
       "17       600  2016-07-07T13:07:00               3018.0             3007.0   \n",
       "18       420  2016-07-07T13:07:00               3014.0             3016.0   \n",
       "19       960  2016-07-07T13:07:00               3037.0             3063.0   \n",
       "20      1320  2016-07-07T13:07:00               3018.0             3068.0   \n",
       "21      1200  2016-07-07T13:08:00               3063.0             3014.0   \n",
       "\n",
       "    Passholder Type  Distance  \n",
       "5                 1  0.624264  \n",
       "6                 1  1.080226  \n",
       "7                 1  0.882587  \n",
       "9                 1  2.200235  \n",
       "10                1  1.222394  \n",
       "11                1  0.508537  \n",
       "12                1  0.461304  \n",
       "14                1  1.365098  \n",
       "15                1  0.415487  \n",
       "16                1  0.449118  \n",
       "17                1  0.797033  \n",
       "18                1  0.505343  \n",
       "19                1  2.241757  \n",
       "20                1  1.186297  \n",
       "21                1  1.458546  "
      ]
     },
     "execution_count": 6,
     "metadata": {},
     "output_type": "execute_result"
    }
   ],
   "source": [
    "# Calculate the manhattan distance between starting stations and ending stations\n",
    "ndata['Distance'] = ndata.apply(\n",
    "    (lambda row: 1.414*geopy.distance.distance(\n",
    "        (row['Starting Station Latitude'], row['Starting Station Longitude']),\n",
    "        (row['Ending Station Latitude'], row['Ending Station Longitude'])).miles), axis=1)\n",
    "ndata = ndata.drop(['Trip ID', 'Starting Station Latitude','Starting Station Longitude',\n",
    "                   'Ending Station Latitude','Ending Station Longitude',\n",
    "                    'Starting Lat-Long', 'Ending Lat-Long'\n",
    "                   ,'Plan Duration','End Time','Trip Route Category','Bike ID'], axis=1)\n",
    "ndata.iloc[:15, :]"
   ]
  },
  {
   "cell_type": "code",
   "execution_count": 8,
   "metadata": {},
   "outputs": [],
   "source": [
    "# ndata.to_csv('ndata.csv')\n",
    "ndata = pd.read_csv('ndata.csv')"
   ]
  },
  {
   "cell_type": "code",
   "execution_count": 9,
   "metadata": {},
   "outputs": [],
   "source": [
    "distance_data = ndata.sort_values(by='Distance',ascending=True).reset_index()\n",
    "distance_data[distance_data['Distance']>4].head(5)\n",
    "# we need to exclude station ID 4108\n",
    "mask4108s = ndata[ndata['Starting Station ID'] == 4108].index\n",
    "ndata.drop(mask4108s,inplace=True)\n",
    "mask4108e = ndata[ndata['Ending Station ID'] == 4108].index\n",
    "ndata.drop(mask4108e,inplace=True)"
   ]
  },
  {
   "cell_type": "code",
   "execution_count": 10,
   "metadata": {},
   "outputs": [
    {
     "data": {
      "text/plain": [
       "Unnamed: 0                      int64\n",
       "Duration                        int64\n",
       "Start Time             datetime64[ns]\n",
       "Starting Station ID           float64\n",
       "Ending Station ID             float64\n",
       "Passholder Type                 int64\n",
       "Distance                      float64\n",
       "dtype: object"
      ]
     },
     "execution_count": 10,
     "metadata": {},
     "output_type": "execute_result"
    }
   ],
   "source": [
    "ndata['Start Time'] = pd.to_datetime(ndata['Start Time'])\n",
    "ndata.dtypes"
   ]
  },
  {
   "cell_type": "markdown",
   "metadata": {},
   "source": [
    "### Exploratory Data Analysis"
   ]
  },
  {
   "cell_type": "code",
   "execution_count": 11,
   "metadata": {},
   "outputs": [
    {
     "data": {
      "text/plain": [
       "(3030.0, 3014.0)"
      ]
     },
     "execution_count": 11,
     "metadata": {},
     "output_type": "execute_result"
    }
   ],
   "source": [
    "# The most frequent route\n",
    "temp = pd.crosstab(ndata['Starting Station ID'],ndata['Ending Station ID']) # Most popular trip\n",
    "temp.stack().index[np.argmax(temp.values)]"
   ]
  },
  {
   "cell_type": "code",
   "execution_count": 12,
   "metadata": {
    "scrolled": true
   },
   "outputs": [
    {
     "data": {
      "text/html": [
       "<div>\n",
       "<style scoped>\n",
       "    .dataframe tbody tr th:only-of-type {\n",
       "        vertical-align: middle;\n",
       "    }\n",
       "\n",
       "    .dataframe tbody tr th {\n",
       "        vertical-align: top;\n",
       "    }\n",
       "\n",
       "    .dataframe thead th {\n",
       "        text-align: right;\n",
       "    }\n",
       "</style>\n",
       "<table border=\"1\" class=\"dataframe\">\n",
       "  <thead>\n",
       "    <tr style=\"text-align: right;\">\n",
       "      <th>Ending Station ID</th>\n",
       "      <th>3005.0</th>\n",
       "      <th>3006.0</th>\n",
       "      <th>3007.0</th>\n",
       "      <th>3008.0</th>\n",
       "      <th>3010.0</th>\n",
       "      <th>3011.0</th>\n",
       "      <th>3014.0</th>\n",
       "      <th>3016.0</th>\n",
       "      <th>3018.0</th>\n",
       "      <th>3019.0</th>\n",
       "    </tr>\n",
       "    <tr>\n",
       "      <th>Starting Station ID</th>\n",
       "      <th></th>\n",
       "      <th></th>\n",
       "      <th></th>\n",
       "      <th></th>\n",
       "      <th></th>\n",
       "      <th></th>\n",
       "      <th></th>\n",
       "      <th></th>\n",
       "      <th></th>\n",
       "      <th></th>\n",
       "    </tr>\n",
       "  </thead>\n",
       "  <tbody>\n",
       "    <tr>\n",
       "      <th>3027.0</th>\n",
       "      <td>85</td>\n",
       "      <td>41</td>\n",
       "      <td>39</td>\n",
       "      <td>13</td>\n",
       "      <td>1</td>\n",
       "      <td>4</td>\n",
       "      <td>246</td>\n",
       "      <td>16</td>\n",
       "      <td>9</td>\n",
       "      <td>29</td>\n",
       "    </tr>\n",
       "    <tr>\n",
       "      <th>3028.0</th>\n",
       "      <td>24</td>\n",
       "      <td>5</td>\n",
       "      <td>7</td>\n",
       "      <td>7</td>\n",
       "      <td>0</td>\n",
       "      <td>9</td>\n",
       "      <td>54</td>\n",
       "      <td>19</td>\n",
       "      <td>8</td>\n",
       "      <td>2</td>\n",
       "    </tr>\n",
       "    <tr>\n",
       "      <th>3029.0</th>\n",
       "      <td>27</td>\n",
       "      <td>26</td>\n",
       "      <td>6</td>\n",
       "      <td>16</td>\n",
       "      <td>0</td>\n",
       "      <td>2</td>\n",
       "      <td>100</td>\n",
       "      <td>13</td>\n",
       "      <td>11</td>\n",
       "      <td>1</td>\n",
       "    </tr>\n",
       "    <tr>\n",
       "      <th>3030.0</th>\n",
       "      <td>134</td>\n",
       "      <td>52</td>\n",
       "      <td>18</td>\n",
       "      <td>19</td>\n",
       "      <td>1</td>\n",
       "      <td>20</td>\n",
       "      <td>694</td>\n",
       "      <td>70</td>\n",
       "      <td>15</td>\n",
       "      <td>152</td>\n",
       "    </tr>\n",
       "  </tbody>\n",
       "</table>\n",
       "</div>"
      ],
      "text/plain": [
       "Ending Station ID    3005.0  3006.0  3007.0  3008.0  3010.0  3011.0  3014.0  \\\n",
       "Starting Station ID                                                           \n",
       "3027.0                   85      41      39      13       1       4     246   \n",
       "3028.0                   24       5       7       7       0       9      54   \n",
       "3029.0                   27      26       6      16       0       2     100   \n",
       "3030.0                  134      52      18      19       1      20     694   \n",
       "\n",
       "Ending Station ID    3016.0  3018.0  3019.0  \n",
       "Starting Station ID                          \n",
       "3027.0                   16       9      29  \n",
       "3028.0                   19       8       2  \n",
       "3029.0                   13      11       1  \n",
       "3030.0                   70      15     152  "
      ]
     },
     "execution_count": 12,
     "metadata": {},
     "output_type": "execute_result"
    }
   ],
   "source": [
    "temp.iloc[17:21,:10] # The most popular trip counts"
   ]
  },
  {
   "cell_type": "code",
   "execution_count": 13,
   "metadata": {},
   "outputs": [
    {
     "data": {
      "image/png": "[encoded data removed]",
      "text/plain": [
       "<matplotlib.figure.Figure at 0x10e43cdd8>"
      ]
     },
     "metadata": {},
     "output_type": "display_data"
    }
   ],
   "source": [
    "import seaborn as sns\n",
    "top5 = pd.DataFrame()\n",
    "top5['Station'] = ndata['Starting Station ID'].value_counts().head().index\n",
    "top5['Number of Starts']=ndata['Starting Station ID'].value_counts().head().values\n",
    "top5['Station'] = top5['Station'].astype('category')\n",
    "top5['Station'] = top5.Station.cat.remove_unused_categories()\n",
    "\n",
    "sns.barplot('Station', 'Number of Starts', data = top5)\n",
    "plt.xticks(rotation=40, ha = 'right')\n",
    "plt.title(\"Top 5 LA Metro Bike Stations by Number of Starts\")\n",
    "plt.show()"
   ]
  },
  {
   "cell_type": "code",
   "execution_count": 14,
   "metadata": {},
   "outputs": [
    {
     "data": {
      "image/png": "[encoded data removed]",
      "text/plain": [
       "<matplotlib.figure.Figure at 0xa1b66ff98>"
      ]
     },
     "metadata": {},
     "output_type": "display_data"
    }
   ],
   "source": [
    "trips_df = pd.DataFrame()\n",
    "trips_df = ndata.groupby(['Starting Station ID','Ending Station ID']).size().reset_index(name = 'Number of Trips')\n",
    "trips_df = trips_df.sort_values('Number of Trips', ascending = False)\n",
    "trips_df['Starting Station ID'] = trips_df['Starting Station ID'].astype('str')\n",
    "trips_df['Ending Station ID'] = trips_df['Ending Station ID'].astype('str')\n",
    "trips_df[\"Trip\"] = trips_df[\"Starting Station ID\"] + \" to \" + trips_df[\"Ending Station ID\"]\n",
    "trips_df = trips_df[:10]\n",
    "trips_df = trips_df.drop(['Starting Station ID', \"Ending Station ID\"], axis = 1)\n",
    "trips_df = trips_df.reset_index()\n",
    "\n",
    "# Most popular trips\n",
    "g = sns.barplot('Number of Trips','Trip', data = trips_df)\n",
    "plt.title(\"Most Popular Trips\")\n",
    "for index, row in trips_df.iterrows():\n",
    "    g.text(row['Number of Trips']-50,index,row['Number of Trips'], \n",
    "             color='white', ha=\"center\",fontsize = 10)\n",
    "plt.show()"
   ]
  },
  {
   "cell_type": "code",
   "execution_count": 15,
   "metadata": {},
   "outputs": [
    {
     "name": "stdout",
     "output_type": "stream",
     "text": [
      "                    Duration  Duration_min  Distance\n",
      "Passholder Type                                     \n",
      "0                2166.938405     36.115640  1.111945\n",
      "1                 770.809696     12.846828  0.998692\n"
     ]
    }
   ],
   "source": [
    "# Assume passengers are following the average duration minutes for each pass.\n",
    "# By mean\n",
    "ndata['Duration_min'] = np.floor(ndata['Duration']/60)\n",
    "print(ndata[['Passholder Type','Duration', 'Duration_min', 'Distance']].groupby('Passholder Type').mean())"
   ]
  },
  {
   "cell_type": "code",
   "execution_count": 16,
   "metadata": {},
   "outputs": [
    {
     "name": "stdout",
     "output_type": "stream",
     "text": [
      "                 Duration  Duration_min  Distance\n",
      "Passholder Type                                  \n",
      "0                     960          16.0  1.033382\n",
      "1                     480           8.0  0.866633\n"
     ]
    }
   ],
   "source": [
    "# By median\n",
    "print(ndata[['Passholder Type','Duration', 'Duration_min', 'Distance']].groupby('Passholder Type').median())"
   ]
  },
  {
   "cell_type": "code",
   "execution_count": 17,
   "metadata": {},
   "outputs": [
    {
     "name": "stdout",
     "output_type": "stream",
     "text": [
      "Annual prob. is 0.23, monthly prob. is 0.32, daily prob. is 1.00\n",
      "Annual utility is 0.41, monthly utility is 0.58\n",
      "35.22504892367906\n"
     ]
    }
   ],
   "source": [
    "# Probability of taking a ride a day for each Pass\n",
    "prob_annual = 150/1.75/365\n",
    "prob_month = 17/1.75/30\n",
    "prob_daily = 1\n",
    "print(\"Annual prob. is %.2f, monthly prob. is %.2f, daily prob. is %.2f\"%(prob_annual,prob_month,prob_daily))\n",
    "\n",
    "# Minimum Utility for buying each Pass a day\n",
    "util_annual = (1.75*np.ceil(150/1.75))/365\n",
    "util_month = (1.75*np.ceil(17/1.75))/30\n",
    "util_daily = 1.75*2 # since the avergae min. is 42.67\n",
    "print(\"Annual utility is %.2f, monthly utility is %.2f\"%(util_annual,util_month))\n",
    "\n",
    "print(prob_annual*150)"
   ]
  },
  {
   "cell_type": "markdown",
   "metadata": {},
   "source": [
    "### Count the net demand and supply for each stations"
   ]
  },
  {
   "cell_type": "code",
   "execution_count": 18,
   "metadata": {},
   "outputs": [
    {
     "data": {
      "text/plain": [
       "<matplotlib.axes._subplots.AxesSubplot at 0xa1cf6bfd0>"
      ]
     },
     "execution_count": 18,
     "metadata": {},
     "output_type": "execute_result"
    },
    {
     "data": {
      "image/png": "[encoded data removed]",
      "text/plain": [
       "<matplotlib.figure.Figure at 0xa1b693080>"
      ]
     },
     "metadata": {},
     "output_type": "display_data"
    }
   ],
   "source": [
    "from sklearn import preprocessing\n",
    "le1 = preprocessing.LabelEncoder()\n",
    "le1.fit(ndata['Starting Station ID'])\n",
    "ndata['Starting Station ID'] = le1.transform(ndata['Starting Station ID'])\n",
    "keys1 = le1.classes_\n",
    "values1 = le1.transform(le1.classes_)\n",
    "dictionary1 = dict(zip(keys1, values1))\n",
    "\n",
    "le2 = preprocessing.LabelEncoder()\n",
    "le2.fit(ndata['Ending Station ID'])\n",
    "ndata['Ending Station ID'] = le2.transform(ndata['Ending Station ID'])\n",
    "keys2 = le2.classes_\n",
    "values2 = le2.transform(le2.classes_)\n",
    "dictionary2 = dict(zip(keys2, values2))\n",
    "\n",
    "import seaborn as sns\n",
    "sns.heatmap(ndata.corr(),annot=True)"
   ]
  },
  {
   "cell_type": "code",
   "execution_count": 19,
   "metadata": {},
   "outputs": [],
   "source": [
    "# Demand for bikes at each station\n",
    "d_data = ndata[['Passholder Type','Starting Station ID']].groupby('Starting Station ID').count()\n",
    "d_data = d_data.rename(columns={'Starting Station ID':'ID','Passholder Type':'D'})\n",
    "\n",
    "# Supply for bikes at each station\n",
    "s_data = ndata[['Passholder Type','Ending Station ID']].groupby('Ending Station ID').count()\n",
    "s_data = s_data.rename(columns={'Ending Station ID':'ID','Passholder Type':'S'})"
   ]
  },
  {
   "cell_type": "code",
   "execution_count": 20,
   "metadata": {},
   "outputs": [
    {
     "data": {
      "text/html": [
       "<div>\n",
       "<style scoped>\n",
       "    .dataframe tbody tr th:only-of-type {\n",
       "        vertical-align: middle;\n",
       "    }\n",
       "\n",
       "    .dataframe tbody tr th {\n",
       "        vertical-align: top;\n",
       "    }\n",
       "\n",
       "    .dataframe thead th {\n",
       "        text-align: right;\n",
       "    }\n",
       "</style>\n",
       "<table border=\"1\" class=\"dataframe\">\n",
       "  <thead>\n",
       "    <tr style=\"text-align: right;\">\n",
       "      <th></th>\n",
       "      <th>S</th>\n",
       "      <th>Net</th>\n",
       "    </tr>\n",
       "    <tr>\n",
       "      <th>Ending Station ID</th>\n",
       "      <th></th>\n",
       "      <th></th>\n",
       "    </tr>\n",
       "  </thead>\n",
       "  <tbody>\n",
       "    <tr>\n",
       "      <th>0</th>\n",
       "      <td>4370</td>\n",
       "      <td>1011</td>\n",
       "    </tr>\n",
       "    <tr>\n",
       "      <th>1</th>\n",
       "      <td>2084</td>\n",
       "      <td>142</td>\n",
       "    </tr>\n",
       "    <tr>\n",
       "      <th>2</th>\n",
       "      <td>1334</td>\n",
       "      <td>0</td>\n",
       "    </tr>\n",
       "    <tr>\n",
       "      <th>3</th>\n",
       "      <td>1539</td>\n",
       "      <td>107</td>\n",
       "    </tr>\n",
       "    <tr>\n",
       "      <th>4</th>\n",
       "      <td>241</td>\n",
       "      <td>0</td>\n",
       "    </tr>\n",
       "  </tbody>\n",
       "</table>\n",
       "</div>"
      ],
      "text/plain": [
       "                      S   Net\n",
       "Ending Station ID            \n",
       "0                  4370  1011\n",
       "1                  2084   142\n",
       "2                  1334     0\n",
       "3                  1539   107\n",
       "4                   241     0"
      ]
     },
     "execution_count": 20,
     "metadata": {},
     "output_type": "execute_result"
    }
   ],
   "source": [
    "# Net Supply stations\n",
    "# s_data.rename(columns={'Starting Station ID':'ID'})\n",
    "s_data['D'] = d_data['D']\n",
    "s_data.head(3)\n",
    "\n",
    "def calculate_nets(row):\n",
    "    temp = np.maximum(row['S'] - row['D'],0)\n",
    "    return temp\n",
    "\n",
    "s_data['Net'] = s_data.apply(calculate_nets, axis=1)\n",
    "s_data = s_data.drop(['D'],axis=1)\n",
    "s_data.head(5)"
   ]
  },
  {
   "cell_type": "code",
   "execution_count": 21,
   "metadata": {
    "scrolled": true
   },
   "outputs": [
    {
     "data": {
      "text/html": [
       "<div>\n",
       "<style scoped>\n",
       "    .dataframe tbody tr th:only-of-type {\n",
       "        vertical-align: middle;\n",
       "    }\n",
       "\n",
       "    .dataframe tbody tr th {\n",
       "        vertical-align: top;\n",
       "    }\n",
       "\n",
       "    .dataframe thead th {\n",
       "        text-align: right;\n",
       "    }\n",
       "</style>\n",
       "<table border=\"1\" class=\"dataframe\">\n",
       "  <thead>\n",
       "    <tr style=\"text-align: right;\">\n",
       "      <th></th>\n",
       "      <th>Net</th>\n",
       "    </tr>\n",
       "    <tr>\n",
       "      <th>Starting Station ID</th>\n",
       "      <th></th>\n",
       "    </tr>\n",
       "  </thead>\n",
       "  <tbody>\n",
       "    <tr>\n",
       "      <th>2</th>\n",
       "      <td>488</td>\n",
       "    </tr>\n",
       "    <tr>\n",
       "      <th>4</th>\n",
       "      <td>39</td>\n",
       "    </tr>\n",
       "    <tr>\n",
       "      <th>7</th>\n",
       "      <td>21</td>\n",
       "    </tr>\n",
       "    <tr>\n",
       "      <th>14</th>\n",
       "      <td>731</td>\n",
       "    </tr>\n",
       "    <tr>\n",
       "      <th>16</th>\n",
       "      <td>230</td>\n",
       "    </tr>\n",
       "  </tbody>\n",
       "</table>\n",
       "</div>"
      ],
      "text/plain": [
       "                     Net\n",
       "Starting Station ID     \n",
       "2                    488\n",
       "4                     39\n",
       "7                     21\n",
       "14                   731\n",
       "16                   230"
      ]
     },
     "execution_count": 21,
     "metadata": {},
     "output_type": "execute_result"
    }
   ],
   "source": [
    "# Net Demand stations\n",
    "# s_data.rename(columns={'Starting Station ID':'ID'})\n",
    "d_data['S'] = s_data['S']\n",
    "d_data.head(3)\n",
    "\n",
    "def calculate_nets2(row):\n",
    "    temp2 = np.maximum(row['D'] - row['S'],0)\n",
    "    return temp2\n",
    "\n",
    "d_data['Net'] = d_data.apply(calculate_nets2, axis=1)\n",
    "d_data = d_data.drop(['S', 'D'],axis=1)\n",
    "s_data = s_data.drop(['S'],axis=1)\n",
    "s_data = s_data[s_data.values.sum(axis=1) != 0]\n",
    "d_data = d_data[d_data.values.sum(axis=1) != 0]\n",
    "d_data.head(5)"
   ]
  },
  {
   "cell_type": "code",
   "execution_count": 22,
   "metadata": {},
   "outputs": [
    {
     "data": {
      "text/html": [
       "<div>\n",
       "<style scoped>\n",
       "    .dataframe tbody tr th:only-of-type {\n",
       "        vertical-align: middle;\n",
       "    }\n",
       "\n",
       "    .dataframe tbody tr th {\n",
       "        vertical-align: top;\n",
       "    }\n",
       "\n",
       "    .dataframe thead th {\n",
       "        text-align: right;\n",
       "    }\n",
       "</style>\n",
       "<table border=\"1\" class=\"dataframe\">\n",
       "  <thead>\n",
       "    <tr style=\"text-align: right;\">\n",
       "      <th></th>\n",
       "      <th>Net</th>\n",
       "    </tr>\n",
       "    <tr>\n",
       "      <th>Ending Station ID</th>\n",
       "      <th></th>\n",
       "    </tr>\n",
       "  </thead>\n",
       "  <tbody>\n",
       "    <tr>\n",
       "      <th>0</th>\n",
       "      <td>1011</td>\n",
       "    </tr>\n",
       "    <tr>\n",
       "      <th>1</th>\n",
       "      <td>142</td>\n",
       "    </tr>\n",
       "    <tr>\n",
       "      <th>3</th>\n",
       "      <td>107</td>\n",
       "    </tr>\n",
       "    <tr>\n",
       "      <th>5</th>\n",
       "      <td>192</td>\n",
       "    </tr>\n",
       "    <tr>\n",
       "      <th>6</th>\n",
       "      <td>587</td>\n",
       "    </tr>\n",
       "  </tbody>\n",
       "</table>\n",
       "</div>"
      ],
      "text/plain": [
       "                    Net\n",
       "Ending Station ID      \n",
       "0                  1011\n",
       "1                   142\n",
       "3                   107\n",
       "5                   192\n",
       "6                   587"
      ]
     },
     "execution_count": 22,
     "metadata": {},
     "output_type": "execute_result"
    }
   ],
   "source": [
    "s_data.head(5)"
   ]
  },
  {
   "cell_type": "code",
   "execution_count": 23,
   "metadata": {},
   "outputs": [
    {
     "name": "stdout",
     "output_type": "stream",
     "text": [
      "36 27\n"
     ]
    }
   ],
   "source": [
    "# Number of Supply stations and Demand stations\n",
    "print(len(s_data), len(d_data))"
   ]
  },
  {
   "cell_type": "code",
   "execution_count": 24,
   "metadata": {},
   "outputs": [],
   "source": [
    "# For pyomo formulation, change to the dictionary type \n",
    "s_data_constraint = s_data.T.to_dict('records')\n",
    "d_data_constraint = d_data.T.to_dict('records')\n",
    "\n",
    "s_data_constraint = str(s_data_constraint[0])\n",
    "d_data_constraint = str(d_data_constraint[0])\n",
    "d_data_constraint\n",
    "\n",
    "import ast\n",
    "s_data_constraint = ast.literal_eval(s_data_constraint)\n",
    "d_data_constraint = ast.literal_eval(d_data_constraint)"
   ]
  },
  {
   "cell_type": "markdown",
   "metadata": {},
   "source": [
    "### Calculate the full discount price of each route from supply stations to demand stations"
   ]
  },
  {
   "cell_type": "code",
   "execution_count": 26,
   "metadata": {},
   "outputs": [
    {
     "data": {
      "text/html": [
       "<div>\n",
       "<style scoped>\n",
       "    .dataframe tbody tr th:only-of-type {\n",
       "        vertical-align: middle;\n",
       "    }\n",
       "\n",
       "    .dataframe tbody tr th {\n",
       "        vertical-align: top;\n",
       "    }\n",
       "\n",
       "    .dataframe thead th {\n",
       "        text-align: right;\n",
       "    }\n",
       "</style>\n",
       "<table border=\"1\" class=\"dataframe\">\n",
       "  <thead>\n",
       "    <tr style=\"text-align: right;\">\n",
       "      <th></th>\n",
       "      <th>Ending Station ID</th>\n",
       "      <th>Starting Station ID</th>\n",
       "      <th>Duration</th>\n",
       "      <th>Duration_min</th>\n",
       "      <th>Distance</th>\n",
       "      <th>Price</th>\n",
       "    </tr>\n",
       "  </thead>\n",
       "  <tbody>\n",
       "    <tr>\n",
       "      <th>0</th>\n",
       "      <td>0</td>\n",
       "      <td>1</td>\n",
       "      <td>525.974026</td>\n",
       "      <td>8.766234</td>\n",
       "      <td>0.351182</td>\n",
       "      <td>1.75</td>\n",
       "    </tr>\n",
       "    <tr>\n",
       "      <th>1</th>\n",
       "      <td>0</td>\n",
       "      <td>2</td>\n",
       "      <td>1255.636364</td>\n",
       "      <td>20.927273</td>\n",
       "      <td>0.407606</td>\n",
       "      <td>1.75</td>\n",
       "    </tr>\n",
       "    <tr>\n",
       "      <th>2</th>\n",
       "      <td>0</td>\n",
       "      <td>3</td>\n",
       "      <td>1032.000000</td>\n",
       "      <td>17.200000</td>\n",
       "      <td>0.353396</td>\n",
       "      <td>1.75</td>\n",
       "    </tr>\n",
       "    <tr>\n",
       "      <th>3</th>\n",
       "      <td>0</td>\n",
       "      <td>4</td>\n",
       "      <td>1710.000000</td>\n",
       "      <td>28.500000</td>\n",
       "      <td>1.171122</td>\n",
       "      <td>1.75</td>\n",
       "    </tr>\n",
       "    <tr>\n",
       "      <th>4</th>\n",
       "      <td>0</td>\n",
       "      <td>5</td>\n",
       "      <td>2896.800000</td>\n",
       "      <td>48.280000</td>\n",
       "      <td>1.023741</td>\n",
       "      <td>3.50</td>\n",
       "    </tr>\n",
       "  </tbody>\n",
       "</table>\n",
       "</div>"
      ],
      "text/plain": [
       "   Ending Station ID  Starting Station ID     Duration  Duration_min  \\\n",
       "0                  0                    1   525.974026      8.766234   \n",
       "1                  0                    2  1255.636364     20.927273   \n",
       "2                  0                    3  1032.000000     17.200000   \n",
       "3                  0                    4  1710.000000     28.500000   \n",
       "4                  0                    5  2896.800000     48.280000   \n",
       "\n",
       "   Distance  Price  \n",
       "0  0.351182   1.75  \n",
       "1  0.407606   1.75  \n",
       "2  0.353396   1.75  \n",
       "3  1.171122   1.75  \n",
       "4  1.023741   3.50  "
      ]
     },
     "execution_count": 26,
     "metadata": {},
     "output_type": "execute_result"
    }
   ],
   "source": [
    "# Full price matrix\n",
    "cost_matrix = ndata[['Ending Station ID','Starting Station ID','Duration', 'Duration_min', 'Distance']].groupby(['Ending Station ID','Starting Station ID'],as_index=False).mean()\n",
    "cost_matrix['Price'] = 1.75 * (np.floor(cost_matrix['Duration_min']/30)+1)\n",
    "cost_matrix[:5]"
   ]
  },
  {
   "cell_type": "code",
   "execution_count": 28,
   "metadata": {},
   "outputs": [],
   "source": [
    "cost_matrix = cost_matrix[(cost_matrix['Ending Station ID'].isin(s_data_constraint))&\n",
    "             (cost_matrix['Starting Station ID'].isin(d_data_constraint))]\n",
    "# cost_matrix.to_csv('cost_matrix.csv', encoding='utf-8', index=False)"
   ]
  },
  {
   "cell_type": "code",
   "execution_count": 29,
   "metadata": {},
   "outputs": [],
   "source": [
    "# Cost Dictionary for pyomo formulation.\n",
    "cost_constraint = cost_matrix[(cost_matrix['Ending Station ID'].isin(s_data_constraint))&\n",
    "             (cost_matrix['Starting Station ID'].isin(d_data_constraint))]\n",
    "cost_constraint['key']='('+cost_constraint['Ending Station ID'].astype(str)+' , '+cost_constraint['Starting Station ID'].astype(str)+')'\n",
    "cost_constraint = cost_constraint.drop(['Duration','Duration_min','Distance','Starting Station ID','Ending Station ID'],axis=1)\n",
    "cost_constraint.set_index('key',inplace=True)\n",
    "cost_constraint = cost_constraint.T.to_dict('records')\n",
    "cost_constraint = cost_constraint[0]\n",
    "cost_constraint = {ast.literal_eval(key): value \n",
    "                   for key, value in cost_constraint.items()}"
   ]
  },
  {
   "cell_type": "code",
   "execution_count": 30,
   "metadata": {},
   "outputs": [],
   "source": [
    "# Distance Dictionary for pyomo formulation.\n",
    "distance_matrix = ndata[['Ending Station ID','Starting Station ID','Duration', 'Duration_min', 'Distance']].groupby(['Ending Station ID','Starting Station ID'],as_index=False).mean()\n",
    "distance_constraint = distance_matrix[(distance_matrix['Ending Station ID'].isin(s_data_constraint))&\n",
    "             (distance_matrix['Starting Station ID'].isin(d_data_constraint))]\n",
    "distance_constraint['key']='('+distance_constraint['Ending Station ID'].astype(str)+' , '+distance_constraint['Starting Station ID'].astype(str)+')'\n",
    "distance_constraint = distance_constraint.drop(['Duration','Duration_min','Starting Station ID','Ending Station ID'],axis=1)\n",
    "distance_constraint.set_index('key',inplace=True)\n",
    "distance_constraint = distance_constraint.T.to_dict('records')\n",
    "distance_constraint = distance_constraint[0]\n",
    "# distance_constraint = distance_constraint[0]\n",
    "distance_constraint = {ast.literal_eval(key): value \n",
    "                   for key, value in distance_constraint.items()}"
   ]
  },
  {
   "cell_type": "code",
   "execution_count": 31,
   "metadata": {},
   "outputs": [
    {
     "name": "stdout",
     "output_type": "stream",
     "text": [
      "838 838\n"
     ]
    }
   ],
   "source": [
    "print(len(cost_constraint.keys()),len(distance_constraint.keys()))\n",
    "# Excluding 63rd Station"
   ]
  },
  {
   "cell_type": "markdown",
   "metadata": {},
   "source": [
    "## Optimization"
   ]
  },
  {
   "cell_type": "markdown",
   "metadata": {},
   "source": [
    "For each pair we can have a parameter $T[c,s]$ denoting the maximum amount from the current price policy over the trip. We set $R_{discount} \\in [0,1]$ as the discount rate for the 'Walk-ups' and $T[s,d]*{R_{discount}}$ as the reward for 'Passholders.' We assume the discount price and reward amount is the same for simplicity.  \n",
    "What we need to determine is the amount of bikes to be relocated over each pair, which we will represent as a non-negative decision variable $x[s,d]$.  \n",
    "\n",
    "* The discount price for 'walk-ups' and the reward for 'passholders' are $T[s,d]*{R_{discount}}$.  \n",
    "* We have trade-off between the discount rate and the demand people will use Metro Bike. We can set realized demand rate as a function of the discount rate. Hence, the demand will become ${Demand}[d] * {f_{realized}(R_{discount})}$\n",
    "* The difference between realized demand and optimal demand when discount rate is 1 is ${(Demand[d] - x[s,d])}$. This becomes cost as well.\n",
    "\n",
    "The problem objective is to minimize the total discount amount to all demanding stations from all supplying stations. \n",
    "\n",
    "$$\\mbox{Minimize:}\\quad \\mbox{Cost} = \\sum_{s \\in Supply Stat.}\\sum_{d \\in Demand Stat.} T[s,d]*{R_{discount}}*x[s,d]    +{(price\\_per\\_mile)}*{Distance[s,d]}*{(Demand[d] - x[s,d])}$$\n",
    "\n",
    "Relocation demands from all sources can not exceed the supplying capacity of the source.\n",
    "\n",
    "$$\\sum_{d \\in Demand Stat.} x[s,d] \\leq \\mbox{Supply}[s] \\qquad \\forall s \\in Supply Stat.$$\n",
    "\n",
    "Relocations to each station must satisfy their demand.\n",
    "\n",
    "$$\\sum_{s\\in Supply Stat.} x[s,d] = \\mbox{Demand}[d] * {f_{realized}(R_{discount})} \\qquad \\forall d \\in Demand Stat.$$"
   ]
  },
  {
   "cell_type": "code",
   "execution_count": 32,
   "metadata": {},
   "outputs": [],
   "source": [
    "# Data file\n",
    "Demand = d_data_constraint\n",
    "Supply = s_data_constraint\n",
    "Distance = distance_constraint\n",
    "\n",
    "import copy\n",
    "T = copy.deepcopy(cost_constraint)\n",
    "T_distance = copy.deepcopy(distance_constraint)\n",
    "missing_pairs = {\n",
    "  (1,60):200,\n",
    "  (3,7):200,\n",
    "  (3,38):200,\n",
    "  (3,39):200,\n",
    "  (3,60):200,\n",
    "  (5,38):200,\n",
    "  (5,39):200,\n",
    "  (5,50):200,\n",
    "  (5,57):200,\n",
    "  (6,38):200,\n",
    "  (8,32):200,\n",
    "  (8,38):200,\n",
    "  (8,39):200,\n",
    "  (9,38):200,\n",
    "  (9,29):200,\n",
    "  (10,2):200,  \n",
    "  (10,14):200,\n",
    "  (10,16):200,\n",
    "  (10,18):200,\n",
    "  (10,20):200,\n",
    "  (10,29):200,\n",
    "  (10,32):200,\n",
    "  (10,35):200,\n",
    "  (10,38):200,\n",
    "  (10,44):200,\n",
    "  (10,46):200,\n",
    "  (10,50):200,\n",
    "  (10,52):200,\n",
    "  (11,4):200,\n",
    "  (11,60):200,\n",
    "  (11,38):200,\n",
    "  (12,4):200,\n",
    "  (12,38):200,\n",
    "  (12,60):200,  \n",
    "  (13,38):200,\n",
    "  (13,60):200,\n",
    "  (15,7):200,\n",
    "  (15,14):200,\n",
    "  (15,16):200,\n",
    "  (15,19):200, \n",
    "  (15,35):200,\n",
    "  (15,38):200,\n",
    "  (15,39):200,\n",
    "  (21,38):200,\n",
    "  (22,60):200,\n",
    "  (23,32):200,\n",
    "  (23,37):200,\n",
    "  (23,38):200,\n",
    "  (23,39):200,\n",
    "  (23,50):200,\n",
    "  (24,38):200,\n",
    "  (24,60):200,  \n",
    "  (25,38):200,\n",
    "  (26,4):200,\n",
    "  (26,16):200,\n",
    "  (26,18):200,\n",
    "  (26,38):200,\n",
    "  (26,44):200,\n",
    "  (27,38):200,\n",
    "  (27,44):200,\n",
    "  (27,60):200,\n",
    "  (30,38):200,\n",
    "  (31,16):200,\n",
    "  (31,17):200,\n",
    "  (31,18):200,\n",
    "  (31,19):200,\n",
    "  (31,32):200,\n",
    "  (31,35):200,\n",
    "  (31,37):200,\n",
    "  (31,38):200,  \n",
    "  (31,50):200,\n",
    "  (31,52):200,\n",
    "  (31,53):200,\n",
    "  (34,4):200,\n",
    "  (34,38):200,\n",
    "  (41,7):200,  \n",
    "  (41,32):200,\n",
    "  (41,39):200,\n",
    "  (41,40):200,\n",
    "  (41,60):200,\n",
    "  (42,7):200,\n",
    "  (42,16):200,\n",
    "  (42,19):200,\n",
    "  (42,38):200,\n",
    "  (42,39):200,\n",
    "  (42,46):200,\n",
    "  (42,57):200,\n",
    "  (42,60):200,  \n",
    "  (43,4):200,\n",
    "  (43,38):200,\n",
    "  (43,44):200,\n",
    "  (43,60):200,\n",
    "  (45,14):200,\n",
    "  (45,16):200,  \n",
    "  (45,18):200,\n",
    "  (45,19):200,\n",
    "  (45,20):200,\n",
    "  (45,32):200,\n",
    "  (45,35):200,\n",
    "  (45,39):200,\n",
    "  (45,50):200,\n",
    "  (45,57):200,\n",
    "  (48,38):200,\n",
    "  (49,4):200,  \n",
    "  (49,33):200,\n",
    "  (49,37):200,\n",
    "  (49,38):200,\n",
    "  (49,44):200,\n",
    "  (49,60):200,\n",
    "  (54,38):200,  \n",
    "  (55,38):200,\n",
    "  (56,29):200,\n",
    "  (56,38):200,\n",
    "  (58,4):200,\n",
    "  (58,33):200,\n",
    "  (58,39):200,\n",
    "  (58,57):200,\n",
    "  (58,60):200,\n",
    "  (59,4):200,\n",
    "  (59,16):200,\n",
    "  (59,35):200,  \n",
    "  (59,36):200,\n",
    "  (59,38):200,\n",
    "  (59,44):200,\n",
    "  (59,57):200,\n",
    "  (59,60):200,\n",
    "  (61,16):200,  \n",
    "  (61,18):200,\n",
    "  (61,19):200,  \n",
    "  (61,38):200,\n",
    "  (61,29):200,\n",
    "  (61,52):200,\n",
    "  (62,4):200,\n",
    "  (62,38):200,\n",
    "  (63,2):200,  \n",
    "  (63,4):200,\n",
    "  (63,7):200,  \n",
    "  (63,16):200,\n",
    "  (63,17):200,\n",
    "  (63,18):200,  \n",
    "  (63,19):200,\n",
    "  (63,14):200,  \n",
    "  (63,28):200,\n",
    "  (63,32):200,\n",
    "  (63,35):200,  \n",
    "  (63,36):200,\n",
    "  (63,38):200,  \n",
    "  (63,39):200,\n",
    "  (63,40):200,\n",
    "  (63,44):200,  \n",
    "  (63,50):200,\n",
    "  (63,52):200,  \n",
    "  (63,57):200,\n",
    "  (63,60):200\n",
    "  }\n",
    "T.update(missing_pairs)\n",
    "T_distance.update(missing_pairs)"
   ]
  },
  {
   "cell_type": "code",
   "execution_count": 33,
   "metadata": {},
   "outputs": [
    {
     "data": {
      "text/plain": [
       "154"
      ]
     },
     "execution_count": 33,
     "metadata": {},
     "output_type": "execute_result"
    }
   ],
   "source": [
    "missing_key_lst = []\n",
    "for key in T.keys(): \n",
    "    if not key in distance_constraint.keys(): \n",
    "  \n",
    "        # Printing difference in \n",
    "        # keys in two dictionary \n",
    "        missing_key_lst.append(key) \n",
    "len(missing_key_lst)"
   ]
  },
  {
   "cell_type": "markdown",
   "metadata": {},
   "source": [
    "## <center> Phase 1 : Total cost optimization for each discount rates </center>\n",
    "\n",
    "* When $price\\_per\\_mile$ is $1/mile.\n",
    "  \n",
    "  \n",
    "* Assume $f_{realized}(discount\\_rate) = discount\\_rate$."
   ]
  },
  {
   "cell_type": "code",
   "execution_count": 49,
   "metadata": {},
   "outputs": [
    {
     "name": "stdout",
     "output_type": "stream",
     "text": [
      "Academic license - for non-commercial use only\n",
      "Gurobi 8.1.0# ==========================================================\n",
      "# = Solver Results                                         =\n",
      "# ==========================================================\n",
      "# ----------------------------------------------------------\n",
      "#   Problem Information\n",
      "# ----------------------------------------------------------\n",
      "Problem: \n",
      "- Lower bound: -inf\n",
      "  Upper bound: inf\n",
      "  Number of objectives: 1\n",
      "  Number of constraints: 63\n",
      "  Number of variables: 972\n",
      "  Sense: unknown\n",
      "# ----------------------------------------------------------\n",
      "#   Solver Information\n",
      "# ----------------------------------------------------------\n",
      "Solver: \n",
      "- Status: ok\n",
      "  Message: Gurobi 8.1.0\\x3a optimal solution; objective 4968040.913061693; 155 simplex iterations\n",
      "  Termination condition: optimal\n",
      "  Id: 0\n",
      "  Error rc: 0\n",
      "  Time: 0.04634594917297363\n",
      "# ----------------------------------------------------------\n",
      "#   Solution Information\n",
      "# ----------------------------------------------------------\n",
      "Solution: \n",
      "- number of solutions: 0\n",
      "  number of solutions displayed: 0\n"
     ]
    }
   ],
   "source": [
    "from pyomo.environ import *\n",
    "\n",
    "model = ConcreteModel()\n",
    "opt = SolverFactory('gurobi_ampl')\n",
    "model.dual = Suffix(direction=Suffix.IMPORT)\n",
    "\n",
    "# Define discount_rate and demand_probability\n",
    "i = 0.9\n",
    "dc_rate = i\n",
    "p_dc = i\n",
    "price_per_mile = 1\n",
    "\n",
    "# Step 1: Define index sets\n",
    "S_list = list(Supply.keys())\n",
    "D_list = list(Demand.keys())\n",
    "\n",
    "# Step 2: Define the decision \n",
    "model.x = Var(S_list, D_list, domain = NonNegativeReals)\n",
    "\n",
    "# Step 3: Define Objective\n",
    "model.Cost = Objective(\n",
    "    expr = sum([T[s,d]*dc_rate*model.x[s,d] + \n",
    "                price_per_mile * T_distance[s,d] * (Demand[d]-model.x[s,d]) \n",
    "                for s in S_list for d in D_list]),sense = minimize)\n",
    "\n",
    "# Step 4: Constraints\n",
    "model.src = ConstraintList()\n",
    "for s in S_list:\n",
    "    model.src.add(sum([model.x[s,d] for d in D_list]) <= Supply[s])\n",
    "\n",
    "model.dmd = ConstraintList()\n",
    "for d in D_list:\n",
    "    model.dmd.add(sum([model.x[s,d] for s in S_list]) == Demand[d]*p_dc)\n",
    "\n",
    "results = opt.solve(model,tee=True)\n",
    "results.write()\n",
    "# We can see that this pyomo model is with optimal solution."
   ]
  },
  {
   "cell_type": "code",
   "execution_count": 50,
   "metadata": {},
   "outputs": [
    {
     "data": {
      "text/plain": [
       "6896.7"
      ]
     },
     "execution_count": 50,
     "metadata": {},
     "output_type": "execute_result"
    }
   ],
   "source": [
    "# Store optimal solution into dataframe\n",
    "optsol = []\n",
    "for s in S_list:\n",
    "    for d in D_list:\n",
    "        optsol.append((s, d, model.x[s,d]()))\n",
    "cols=['S','D','Optimal Moves']        \n",
    "optsol = pd.DataFrame(optsol,columns=cols)\n",
    "optsol = optsol[optsol['Optimal Moves']!=0]\n",
    "opts_list = optsol['S'].unique().tolist()\n",
    "optd_list = optsol['D'].unique().tolist()\n",
    "# optsol.to_csv('optimal_sol_scenario1.csv')\n",
    "optsol['Optimal Moves'].sum()\n",
    "# Total movements for every route pairs."
   ]
  },
  {
   "cell_type": "code",
   "execution_count": 51,
   "metadata": {
    "scrolled": true
   },
   "outputs": [
    {
     "data": {
      "text/html": [
       "<div>\n",
       "<style scoped>\n",
       "    .dataframe tbody tr th:only-of-type {\n",
       "        vertical-align: middle;\n",
       "    }\n",
       "\n",
       "    .dataframe tbody tr th {\n",
       "        vertical-align: top;\n",
       "    }\n",
       "\n",
       "    .dataframe thead th {\n",
       "        text-align: right;\n",
       "    }\n",
       "</style>\n",
       "<table border=\"1\" class=\"dataframe\">\n",
       "  <thead>\n",
       "    <tr style=\"text-align: right;\">\n",
       "      <th></th>\n",
       "      <th>Ending Station ID</th>\n",
       "      <th>Starting Station ID</th>\n",
       "      <th>Duration</th>\n",
       "      <th>Duration_min</th>\n",
       "      <th>Distance</th>\n",
       "      <th>Price</th>\n",
       "    </tr>\n",
       "  </thead>\n",
       "  <tbody>\n",
       "    <tr>\n",
       "      <th>28</th>\n",
       "      <td>0</td>\n",
       "      <td>29</td>\n",
       "      <td>1996.578947</td>\n",
       "      <td>33.276316</td>\n",
       "      <td>0.768758</td>\n",
       "      <td>3.5</td>\n",
       "    </tr>\n",
       "    <tr>\n",
       "      <th>38</th>\n",
       "      <td>0</td>\n",
       "      <td>39</td>\n",
       "      <td>2245.263158</td>\n",
       "      <td>37.421053</td>\n",
       "      <td>2.043746</td>\n",
       "      <td>3.5</td>\n",
       "    </tr>\n",
       "    <tr>\n",
       "      <th>59</th>\n",
       "      <td>0</td>\n",
       "      <td>60</td>\n",
       "      <td>3260.000000</td>\n",
       "      <td>54.333333</td>\n",
       "      <td>1.443546</td>\n",
       "      <td>3.5</td>\n",
       "    </tr>\n",
       "    <tr>\n",
       "      <th>77</th>\n",
       "      <td>1</td>\n",
       "      <td>16</td>\n",
       "      <td>2184.705882</td>\n",
       "      <td>36.411765</td>\n",
       "      <td>1.929059</td>\n",
       "      <td>3.5</td>\n",
       "    </tr>\n",
       "    <tr>\n",
       "      <th>79</th>\n",
       "      <td>1</td>\n",
       "      <td>18</td>\n",
       "      <td>6120.000000</td>\n",
       "      <td>102.000000</td>\n",
       "      <td>1.512538</td>\n",
       "      <td>7.0</td>\n",
       "    </tr>\n",
       "  </tbody>\n",
       "</table>\n",
       "</div>"
      ],
      "text/plain": [
       "    Ending Station ID  Starting Station ID     Duration  Duration_min  \\\n",
       "28                  0                   29  1996.578947     33.276316   \n",
       "38                  0                   39  2245.263158     37.421053   \n",
       "59                  0                   60  3260.000000     54.333333   \n",
       "77                  1                   16  2184.705882     36.411765   \n",
       "79                  1                   18  6120.000000    102.000000   \n",
       "\n",
       "    Distance  Price  \n",
       "28  0.768758    3.5  \n",
       "38  2.043746    3.5  \n",
       "59  1.443546    3.5  \n",
       "77  1.929059    3.5  \n",
       "79  1.512538    7.0  "
      ]
     },
     "execution_count": 51,
     "metadata": {},
     "output_type": "execute_result"
    }
   ],
   "source": [
    "optsol_analysis = optsol.copy()\n",
    "optsol_analysis = cost_matrix[(cost_matrix['Ending Station ID'].isin(opts_list))&\n",
    "             (cost_matrix['Starting Station ID'].isin(optd_list))]\n",
    "optsol_analysis[optsol_analysis['Price']!=1.75].sort_values(by=['Ending Station ID']).head(5)\n",
    "# optsol_analysis.to_csv('optimal_sol_price_scenario1.csv')"
   ]
  },
  {
   "cell_type": "markdown",
   "metadata": {},
   "source": [
    "### From range 0% to 100%."
   ]
  },
  {
   "cell_type": "code",
   "execution_count": 39,
   "metadata": {
    "scrolled": true
   },
   "outputs": [
    {
     "name": "stdout",
     "output_type": "stream",
     "text": [
      "Academic license - for non-commercial use only\n",
      "Gurobi 8.1.0Academic license - for non-commercial use only\n",
      "Gurobi 8.1.0Academic license - for non-commercial use only\n",
      "Gurobi 8.1.0Academic license - for non-commercial use only\n",
      "Gurobi 8.1.0Academic license - for non-commercial use only\n",
      "Gurobi 8.1.0Academic license - for non-commercial use only\n",
      "Gurobi 8.1.0Academic license - for non-commercial use only\n",
      "Gurobi 8.1.0Academic license - for non-commercial use only\n",
      "Gurobi 8.1.0Academic license - for non-commercial use only\n",
      "Gurobi 8.1.0Academic license - for non-commercial use only\n",
      "Gurobi 8.1.0Academic license - for non-commercial use only\n",
      "Gurobi 8.1.0Academic license - for non-commercial use only\n",
      "Gurobi 8.1.0Academic license - for non-commercial use only\n",
      "Gurobi 8.1.0Academic license - for non-commercial use only\n",
      "Gurobi 8.1.0Academic license - for non-commercial use only\n",
      "Gurobi 8.1.0Academic license - for non-commercial use only\n",
      "Gurobi 8.1.0Academic license - for non-commercial use only\n",
      "Gurobi 8.1.0Academic license - for non-commercial use only\n",
      "Gurobi 8.1.0Academic license - for non-commercial use only\n",
      "Gurobi 8.1.0Academic license - for non-commercial use only\n",
      "Gurobi 8.1.0Academic license - for non-commercial use only\n",
      "Gurobi 8.1.0"
     ]
    },
    {
     "data": {
      "text/plain": [
       "[4990558.528498328,\n",
       " 4979447.878417247,\n",
       " 4968040.913061695,\n",
       " 4957186.949684285,\n",
       " 4946865.049200443,\n",
       " 4937057.214745319,\n",
       " 4927764.160471519,\n",
       " 4918985.12369217,\n",
       " 4910717.515403355,\n",
       " 4902959.943192451,\n",
       " 4896357.236347776,\n",
       " 4890586.479860006,\n",
       " 4885497.018481592,\n",
       " 4881097.796260489,\n",
       " 4877379.65766453,\n",
       " 4874455.047620876,\n",
       " 4878598.791795736,\n",
       " 4885408.274801074,\n",
       " 4898363.69133274,\n",
       " 4922303.397905982,\n",
       " 4989661.140980148]"
      ]
     },
     "execution_count": 39,
     "metadata": {},
     "output_type": "execute_result"
    }
   ],
   "source": [
    "from pyomo.environ import *\n",
    "\n",
    "Objective_list = []\n",
    "for i in np.arange(1.0,-0.05,-0.05):\n",
    "    # Create an instance of the model\n",
    "    model = ConcreteModel()\n",
    "    opt = SolverFactory('gurobi_ampl')\n",
    "    model.dual = Suffix(direction=Suffix.IMPORT)\n",
    "\n",
    "    # Define discount_rate and demand_probability\n",
    "    dc_rate = i\n",
    "    f_dc = i\n",
    "    price_per_mile = 1\n",
    "\n",
    "    # Step 1: Define index sets\n",
    "    S_list = list(Supply.keys())\n",
    "    D_list = list(Demand.keys())\n",
    "\n",
    "    # Step 2: Define the decision \n",
    "    model.x = Var(S_list, D_list, domain = NonNegativeReals)\n",
    "\n",
    "    # Step 3: Define Objective\n",
    "    model.Cost = Objective(\n",
    "        expr = sum([T[s,d]*dc_rate*model.x[s,d] + \n",
    "                    price_per_mile * T_distance[s,d] * (Demand[d]-model.x[s,d]) \n",
    "                    for s in S_list for d in D_list]),sense = minimize)\n",
    "\n",
    "    # Step 4: Constraints\n",
    "    model.src = ConstraintList()\n",
    "    for s in S_list:\n",
    "        model.src.add(sum([model.x[s,d] for d in D_list]) <= Supply[s])\n",
    "\n",
    "    model.dmd = ConstraintList()\n",
    "    for d in D_list:\n",
    "        model.dmd.add(sum([model.x[s,d] for s in S_list]) == Demand[d]*f_dc)\n",
    "\n",
    "    results = opt.solve(model,tee=True)\n",
    "    model.solutions.store_to(results)\n",
    "    Objective_list.append(model.Cost.expr())\n",
    "    \n",
    "Objective_list"
   ]
  },
  {
   "cell_type": "code",
   "execution_count": 41,
   "metadata": {},
   "outputs": [
    {
     "data": {
      "image/png": "[encoded data removed]",
      "text/plain": [
       "<matplotlib.figure.Figure at 0x1a23927668>"
      ]
     },
     "metadata": {},
     "output_type": "display_data"
    }
   ],
   "source": [
    "plt.plot(np.arange(1.0,-0.05,-0.05),Objective_list)\n",
    "plt.annotate('Minimum', xy=(0.25, min(Objective_list)), xytext=(0.3, min(Objective_list)+30000),\n",
    "            arrowprops=dict(facecolor='black', shrink=0.05),\n",
    "            )\n",
    "plt.show()"
   ]
  },
  {
   "cell_type": "markdown",
   "metadata": {},
   "source": [
    "### From range 22% to 32%."
   ]
  },
  {
   "cell_type": "code",
   "execution_count": 42,
   "metadata": {
    "scrolled": true
   },
   "outputs": [
    {
     "name": "stdout",
     "output_type": "stream",
     "text": [
      "Academic license - for non-commercial use only\n",
      "Gurobi 8.1.0Academic license - for non-commercial use only\n",
      "Gurobi 8.1.0Academic license - for non-commercial use only\n",
      "Gurobi 8.1.0Academic license - for non-commercial use only\n",
      "Gurobi 8.1.0Academic license - for non-commercial use only\n",
      "Gurobi 8.1.0Academic license - for non-commercial use only\n",
      "Gurobi 8.1.0Academic license - for non-commercial use only\n",
      "Gurobi 8.1.0Academic license - for non-commercial use only\n",
      "Gurobi 8.1.0Academic license - for non-commercial use only\n",
      "Gurobi 8.1.0Academic license - for non-commercial use only\n",
      "Gurobi 8.1.0"
     ]
    },
    {
     "data": {
      "text/plain": [
       "[4878784.072091382,\n",
       " 4878067.669532112,\n",
       " 4877379.65766453,\n",
       " 4876719.779769772,\n",
       " 4876094.547865824,\n",
       " 4875496.322166564,\n",
       " 4874925.385257383,\n",
       " 4874455.047620877,\n",
       " 4874803.294599347,\n",
       " 4875657.745738151]"
      ]
     },
     "execution_count": 42,
     "metadata": {},
     "output_type": "execute_result"
    }
   ],
   "source": [
    "from pyomo.environ import *\n",
    "\n",
    "Objective_list_detail = []\n",
    "for i in np.arange(0.32,0.22,-0.01):\n",
    "    # Create an instance of the model\n",
    "    model = ConcreteModel()\n",
    "    opt = SolverFactory('gurobi_ampl')\n",
    "    model.dual = Suffix(direction=Suffix.IMPORT)\n",
    "\n",
    "    # Define discount_rate and demand_probability\n",
    "    dc_rate = i\n",
    "    p_dc = i\n",
    "    price_per_mile = 1\n",
    "#     miles = 1 # to be determined\n",
    "\n",
    "    # Step 1: Define index sets\n",
    "    S_list = list(Supply.keys())\n",
    "    D_list = list(Demand.keys())\n",
    "\n",
    "    # Step 2: Define the decision \n",
    "    model.x = Var(S_list, D_list, domain = NonNegativeReals)\n",
    "\n",
    "    # Step 3: Define Objective\n",
    "    model.Cost = Objective(\n",
    "        expr = sum([T[s,d]*dc_rate*model.x[s,d] + \n",
    "                    price_per_mile * T_distance[s,d] * (Demand[d]-model.x[s,d]) \n",
    "                    for s in S_list for d in D_list]),sense = minimize)\n",
    "\n",
    "    # Step 4: Constraints\n",
    "    model.src = ConstraintList()\n",
    "    for s in S_list:\n",
    "        model.src.add(sum([model.x[s,d] for d in D_list]) <= Supply[s])\n",
    "\n",
    "    model.dmd = ConstraintList()\n",
    "    for d in D_list:\n",
    "        model.dmd.add(sum([model.x[s,d] for s in S_list]) == Demand[d]*p_dc)\n",
    "\n",
    "    results = opt.solve(model,tee=True)\n",
    "    model.solutions.store_to(results)\n",
    "    Objective_list_detail.append(model.Cost.expr())\n",
    "    \n",
    "Objective_list_detail"
   ]
  },
  {
   "cell_type": "code",
   "execution_count": 48,
   "metadata": {},
   "outputs": [
    {
     "data": {
      "image/png": "[encoded data removed]",
      "text/plain": [
       "<matplotlib.figure.Figure at 0x1a233408d0>"
      ]
     },
     "metadata": {},
     "output_type": "display_data"
    }
   ],
   "source": [
    "plt.plot(np.arange(0.32,0.22,-0.01),Objective_list_detail)\n",
    "plt.annotate('Minimum', xy=(0.25, min(Objective_list_detail)), xytext=(0.26, min(Objective_list_detail)+1500),\n",
    "            arrowprops=dict(facecolor='black', shrink=0.05),\n",
    "            )\n",
    "plt.show()"
   ]
  },
  {
   "cell_type": "markdown",
   "metadata": {},
   "source": [
    "## <center>We can conclude that the optimal discount price for minimizing the total cost is 25%.</center>"
   ]
  },
  {
   "cell_type": "markdown",
   "metadata": {},
   "source": [
    "---"
   ]
  },
  {
   "cell_type": "markdown",
   "metadata": {},
   "source": [
    "## <center> Phase 2 : Estimation of operation cost to determine relocation service feasibility. </center>\n",
    "\n",
    "* When $price\\_per\\_mile$ needs to be determined for the service feasibility.\n",
    "  \n",
    "  \n",
    "* Assume $f_{realized}(discount\\_rate) = discount\\_rate$."
   ]
  },
  {
   "cell_type": "code",
   "execution_count": 109,
   "metadata": {},
   "outputs": [
    {
     "name": "stdout",
     "output_type": "stream",
     "text": [
      "Academic license - for non-commercial use only\n",
      "Gurobi 8.1.0Academic license - for non-commercial use only\n",
      "Gurobi 8.1.0Academic license - for non-commercial use only\n",
      "Gurobi 8.1.0Academic license - for non-commercial use only\n",
      "Gurobi 8.1.0Academic license - for non-commercial use only\n",
      "Gurobi 8.1.0Academic license - for non-commercial use only\n",
      "Gurobi 8.1.0Academic license - for non-commercial use only\n",
      "Gurobi 8.1.0Academic license - for non-commercial use only\n",
      "Gurobi 8.1.0Academic license - for non-commercial use only\n",
      "Gurobi 8.1.0Academic license - for non-commercial use only\n",
      "Gurobi 8.1.0Academic license - for non-commercial use only\n",
      "Gurobi 8.1.0Academic license - for non-commercial use only\n",
      "Gurobi 8.1.0Academic license - for non-commercial use only\n",
      "Gurobi 8.1.0Academic license - for non-commercial use only\n",
      "Gurobi 8.1.0Academic license - for non-commercial use only\n",
      "Gurobi 8.1.0Academic license - for non-commercial use only\n",
      "Gurobi 8.1.0Academic license - for non-commercial use only\n",
      "Gurobi 8.1.0Academic license - for non-commercial use only\n",
      "Gurobi 8.1.0Academic license - for non-commercial use only\n",
      "Gurobi 8.1.0Academic license - for non-commercial use only\n",
      "Gurobi 8.1.0Academic license - for non-commercial use only\n",
      "Gurobi 8.1.0Academic license - for non-commercial use only\n",
      "Gurobi 8.1.0Academic license - for non-commercial use only\n",
      "Gurobi 8.1.0Academic license - for non-commercial use only\n",
      "Gurobi 8.1.0Academic license - for non-commercial use only\n",
      "Gurobi 8.1.0Academic license - for non-commercial use only\n",
      "Gurobi 8.1.0Academic license - for non-commercial use only\n",
      "Gurobi 8.1.0Academic license - for non-commercial use only\n",
      "Gurobi 8.1.0Academic license - for non-commercial use only\n",
      "Gurobi 8.1.0Academic license - for non-commercial use only\n",
      "Gurobi 8.1.0Academic license - for non-commercial use only\n",
      "Gurobi 8.1.0Academic license - for non-commercial use only\n",
      "Gurobi 8.1.0Academic license - for non-commercial use only\n",
      "Gurobi 8.1.0Academic license - for non-commercial use only\n",
      "Gurobi 8.1.0Academic license - for non-commercial use only\n",
      "Gurobi 8.1.0Academic license - for non-commercial use only\n",
      "Gurobi 8.1.0Academic license - for non-commercial use only\n",
      "Gurobi 8.1.0Academic license - for non-commercial use only\n",
      "Gurobi 8.1.0Academic license - for non-commercial use only\n",
      "Gurobi 8.1.0Academic license - for non-commercial use only\n",
      "Gurobi 8.1.0Academic license - for non-commercial use only\n",
      "Gurobi 8.1.0Academic license - for non-commercial use only\n",
      "Gurobi 8.1.0Academic license - for non-commercial use only\n",
      "Gurobi 8.1.0Academic license - for non-commercial use only\n",
      "Gurobi 8.1.0Academic license - for non-commercial use only\n",
      "Gurobi 8.1.0Academic license - for non-commercial use only\n",
      "Gurobi 8.1.0Academic license - for non-commercial use only\n",
      "Gurobi 8.1.0Academic license - for non-commercial use only\n",
      "Gurobi 8.1.0Academic license - for non-commercial use only\n",
      "Gurobi 8.1.0Academic license - for non-commercial use only\n",
      "Gurobi 8.1.0Academic license - for non-commercial use only\n",
      "Gurobi 8.1.0Academic license - for non-commercial use only\n",
      "Gurobi 8.1.0Academic license - for non-commercial use only\n",
      "Gurobi 8.1.0Academic license - for non-commercial use only\n",
      "Gurobi 8.1.0Academic license - for non-commercial use only\n",
      "Gurobi 8.1.0Academic license - for non-commercial use only\n",
      "Gurobi 8.1.0Academic license - for non-commercial use only\n",
      "Gurobi 8.1.0Academic license - for non-commercial use only\n",
      "Gurobi 8.1.0Academic license - for non-commercial use only\n",
      "Gurobi 8.1.0Academic license - for non-commercial use only\n",
      "Gurobi 8.1.0Academic license - for non-commercial use only\n",
      "Gurobi 8.1.0Academic license - for non-commercial use only\n",
      "Gurobi 8.1.0Academic license - for non-commercial use only\n",
      "Gurobi 8.1.0Academic license - for non-commercial use only\n",
      "Gurobi 8.1.0Academic license - for non-commercial use only\n",
      "Gurobi 8.1.0Academic license - for non-commercial use only\n",
      "Gurobi 8.1.0Academic license - for non-commercial use only\n",
      "Gurobi 8.1.0Academic license - for non-commercial use only\n",
      "Gurobi 8.1.0Academic license - for non-commercial use only\n",
      "Gurobi 8.1.0Academic license - for non-commercial use only\n",
      "Gurobi 8.1.0Academic license - for non-commercial use only\n",
      "Gurobi 8.1.0Academic license - for non-commercial use only\n",
      "Gurobi 8.1.0Academic license - for non-commercial use only\n",
      "Gurobi 8.1.0Academic license - for non-commercial use only\n",
      "Gurobi 8.1.0Academic license - for non-commercial use only\n",
      "Gurobi 8.1.0Academic license - for non-commercial use only\n",
      "Gurobi 8.1.0Academic license - for non-commercial use only\n",
      "Gurobi 8.1.0Academic license - for non-commercial use only\n",
      "Gurobi 8.1.0Academic license - for non-commercial use only\n",
      "Gurobi 8.1.0Academic license - for non-commercial use only\n",
      "Gurobi 8.1.0Academic license - for non-commercial use only\n",
      "Gurobi 8.1.0Academic license - for non-commercial use only\n",
      "Gurobi 8.1.0Academic license - for non-commercial use only\n",
      "Gurobi 8.1.0Academic license - for non-commercial use only\n",
      "Gurobi 8.1.0Academic license - for non-commercial use only\n",
      "Gurobi 8.1.0Academic license - for non-commercial use only\n",
      "Gurobi 8.1.0Academic license - for non-commercial use only\n",
      "Gurobi 8.1.0Academic license - for non-commercial use only\n",
      "Gurobi 8.1.0Academic license - for non-commercial use only\n",
      "Gurobi 8.1.0Academic license - for non-commercial use only\n",
      "Gurobi 8.1.0Academic license - for non-commercial use only\n",
      "Gurobi 8.1.0Academic license - for non-commercial use only\n",
      "Gurobi 8.1.0Academic license - for non-commercial use only\n",
      "Gurobi 8.1.0Academic license - for non-commercial use only\n",
      "Gurobi 8.1.0Academic license - for non-commercial use only\n",
      "Gurobi 8.1.0Academic license - for non-commercial use only\n",
      "Gurobi 8.1.0Academic license - for non-commercial use only\n",
      "Gurobi 8.1.0Academic license - for non-commercial use only\n",
      "Gurobi 8.1.0Academic license - for non-commercial use only\n",
      "Gurobi 8.1.0Academic license - for non-commercial use only\n",
      "Gurobi 8.1.0"
     ]
    },
    {
     "data": {
      "text/plain": [
       "[[2494830.570490073,\n",
       "  2454243.8056663694,\n",
       "  2453139.7958978685,\n",
       "  2462666.9650822645,\n",
       "  2477365.229240795,\n",
       "  2494427.8065003925,\n",
       "  2495341.6429268075,\n",
       "  2496537.072252991,\n",
       "  2498027.3954586573,\n",
       "  2499828.3590875557],\n",
       " [4989661.140980146,\n",
       "  4898363.691332739,\n",
       "  4878598.791795736,\n",
       "  4877379.65766453,\n",
       "  4885497.018481592,\n",
       "  4896357.236347776,\n",
       "  4910717.515403355,\n",
       "  4927764.160471519,\n",
       "  4946865.049200443,\n",
       "  4968040.913061695],\n",
       " [7484491.711470219,\n",
       "  7342483.576999112,\n",
       "  7304057.73159257,\n",
       "  7292092.350246798,\n",
       "  7293628.807722387,\n",
       "  7297955.948271666,\n",
       "  7306780.538105034,\n",
       "  7318952.413207283,\n",
       "  7333201.233800664,\n",
       "  7349558.097092541],\n",
       " [9979322.281960292,\n",
       "  9786603.400067292,\n",
       "  9729511.939769933,\n",
       "  9706805.04282906,\n",
       "  9701760.596963182,\n",
       "  9699554.660195554,\n",
       "  9702843.560806708,\n",
       "  9710140.66594304,\n",
       "  9719537.418400886,\n",
       "  9731075.281123389],\n",
       " [12474152.852450354,\n",
       "  12230723.116959106,\n",
       "  12154964.467062328,\n",
       "  12121517.735411318,\n",
       "  12109892.386203965,\n",
       "  12101153.372119434,\n",
       "  12098906.583508376,\n",
       "  12101328.918678787,\n",
       "  12105873.603001095,\n",
       "  12112592.465154221],\n",
       " [14968983.422940439,\n",
       "  14674842.833850943,\n",
       "  14580414.367740959,\n",
       "  14536228.711399933,\n",
       "  14518024.175444769,\n",
       "  14502752.084043331,\n",
       "  14494969.606210066,\n",
       "  14492517.171414563,\n",
       "  14492209.787601333,\n",
       "  14494109.649185084],\n",
       " [17463813.99343051,\n",
       "  17118962.410077766,\n",
       "  17005863.277364448,\n",
       "  16950936.937831126,\n",
       "  16926155.599853076,\n",
       "  16904350.79596722,\n",
       "  16891032.628911745,\n",
       "  16883705.424150318,\n",
       "  16878545.972201556,\n",
       "  16875626.83321593],\n",
       " [19958644.563920584,\n",
       "  19563081.779374592,\n",
       "  19431312.18698794,\n",
       "  19365642.50234634,\n",
       "  19334280.816974953,\n",
       "  19305945.154062036,\n",
       "  19287095.65161342,\n",
       "  19274893.676886078,\n",
       "  19264882.156801775,\n",
       "  19257144.017246775],\n",
       " [22453475.134410642,\n",
       "  22007201.148671407,\n",
       "  21856761.09661142,\n",
       "  21780346.291296776,\n",
       "  21742406.0340968,\n",
       "  21707533.806132283,\n",
       "  21683158.674315095,\n",
       "  21666081.92962182,\n",
       "  21651218.341401976,\n",
       "  21638661.201277602],\n",
       " [24948305.704900708,\n",
       "  24451320.517968222,\n",
       "  24282210.002041604,\n",
       "  24195050.02310752,\n",
       "  24150531.251218658,\n",
       "  24109122.458202526,\n",
       "  24079221.69701676,\n",
       "  24057270.182357572,\n",
       "  24037554.526002187,\n",
       "  24020178.385308437]]"
      ]
     },
     "execution_count": 109,
     "metadata": {},
     "output_type": "execute_result"
    }
   ],
   "source": [
    "from pyomo.environ import *\n",
    "\n",
    "Operation_list = []\n",
    "for j in range(10):\n",
    "    Operation_list.append([])\n",
    "#     for i in range(11):\n",
    "#         Operation_list[j].append(0)\n",
    "\n",
    "# Operation cost range from $0.50 to $5.00\n",
    "for j in range(10):\n",
    "    for i in range(10):\n",
    "        # Create an instance of the model\n",
    "        model = ConcreteModel()\n",
    "        opt = SolverFactory('gurobi_ampl')\n",
    "        model.dual = Suffix(direction=Suffix.IMPORT)\n",
    "\n",
    "        # Define discount_rate and demand_probability\n",
    "        dc_rate = i/10\n",
    "        f_dc = i/10\n",
    "        price_per_mile = (j+1)/2\n",
    "\n",
    "        # Step 1: Define index sets\n",
    "        S_list = list(Supply.keys())\n",
    "        D_list = list(Demand.keys())\n",
    "\n",
    "        # Step 2: Define the decision \n",
    "        model.x = Var(S_list, D_list, domain = NonNegativeReals)\n",
    "\n",
    "        # Step 3: Define Objective\n",
    "        model.Cost = Objective(\n",
    "            expr = sum([T[s,d]*dc_rate*model.x[s,d] + \n",
    "                        price_per_mile * T_distance[s,d] * (Demand[d]-model.x[s,d]) \n",
    "                        for s in S_list for d in D_list]),sense = minimize)\n",
    "\n",
    "        # Step 4: Constraints\n",
    "        model.src = ConstraintList()\n",
    "        for s in S_list:\n",
    "            model.src.add(sum([model.x[s,d] for d in D_list]) <= Supply[s])\n",
    "\n",
    "        model.dmd = ConstraintList()\n",
    "        for d in D_list:\n",
    "            model.dmd.add(sum([model.x[s,d] for s in S_list]) == Demand[d]*f_dc)\n",
    "\n",
    "        results = opt.solve(model,tee=True)\n",
    "        model.solutions.store_to(results)\n",
    "        Operation_list[j].append(model.Cost.expr())\n",
    "          \n",
    "Operation_list"
   ]
  },
  {
   "cell_type": "code",
   "execution_count": 116,
   "metadata": {},
   "outputs": [
    {
     "data": {
      "image/png": "[encoded data removed]",
      "text/plain": [
       "<matplotlib.figure.Figure at 0x1169bbc88>"
      ]
     },
     "metadata": {},
     "output_type": "display_data"
    }
   ],
   "source": [
    "fig = plt.figure(figsize=(10,10))\n",
    "\n",
    "for i in range(10):\n",
    "    plt.subplot(5, 2, i+1)\n",
    "    plt.title('Price ${0}'.format((i+1)/2))\n",
    "    plt.plot(range(10), Operation_list[i])\n",
    "# plt.tight_layout(pad=1, w_pad=0.2, h_pad=0.4)\n",
    "plt.tight_layout()\n",
    "plt.show()"
   ]
  },
  {
   "cell_type": "markdown",
   "metadata": {},
   "source": [
    "### Calculate the prices of every pass for classification learning "
   ]
  },
  {
   "cell_type": "code",
   "execution_count": 30,
   "metadata": {},
   "outputs": [],
   "source": [
    "ndata['Price0'] = 1.75 * (ndata['Duration_min']/30+1) # Price for Walk-up\n",
    "ndata['Price1'] = 1.75 * ndata['Duration_min']/30+0.41 # Price for Passholders"
   ]
  },
  {
   "cell_type": "markdown",
   "metadata": {},
   "source": [
    "### Random Forest Modeling (Training)"
   ]
  },
  {
   "cell_type": "code",
   "execution_count": 53,
   "metadata": {},
   "outputs": [
    {
     "data": {
      "text/html": [
       "<div>\n",
       "<style scoped>\n",
       "    .dataframe tbody tr th:only-of-type {\n",
       "        vertical-align: middle;\n",
       "    }\n",
       "\n",
       "    .dataframe tbody tr th {\n",
       "        vertical-align: top;\n",
       "    }\n",
       "\n",
       "    .dataframe thead th {\n",
       "        text-align: right;\n",
       "    }\n",
       "</style>\n",
       "<table border=\"1\" class=\"dataframe\">\n",
       "  <thead>\n",
       "    <tr style=\"text-align: right;\">\n",
       "      <th></th>\n",
       "      <th>Ending Station ID</th>\n",
       "      <th>Starting Station ID</th>\n",
       "      <th>Duration</th>\n",
       "      <th>Duration_min</th>\n",
       "      <th>Distance</th>\n",
       "      <th>Passholder Type</th>\n",
       "    </tr>\n",
       "  </thead>\n",
       "  <tbody>\n",
       "    <tr>\n",
       "      <th>0</th>\n",
       "      <td>0</td>\n",
       "      <td>1</td>\n",
       "      <td>77</td>\n",
       "      <td>77</td>\n",
       "      <td>77</td>\n",
       "      <td>77</td>\n",
       "    </tr>\n",
       "    <tr>\n",
       "      <th>1</th>\n",
       "      <td>0</td>\n",
       "      <td>2</td>\n",
       "      <td>55</td>\n",
       "      <td>55</td>\n",
       "      <td>55</td>\n",
       "      <td>55</td>\n",
       "    </tr>\n",
       "    <tr>\n",
       "      <th>2</th>\n",
       "      <td>0</td>\n",
       "      <td>3</td>\n",
       "      <td>65</td>\n",
       "      <td>65</td>\n",
       "      <td>65</td>\n",
       "      <td>65</td>\n",
       "    </tr>\n",
       "    <tr>\n",
       "      <th>3</th>\n",
       "      <td>0</td>\n",
       "      <td>4</td>\n",
       "      <td>4</td>\n",
       "      <td>4</td>\n",
       "      <td>4</td>\n",
       "      <td>4</td>\n",
       "    </tr>\n",
       "    <tr>\n",
       "      <th>4</th>\n",
       "      <td>0</td>\n",
       "      <td>5</td>\n",
       "      <td>50</td>\n",
       "      <td>50</td>\n",
       "      <td>50</td>\n",
       "      <td>50</td>\n",
       "    </tr>\n",
       "  </tbody>\n",
       "</table>\n",
       "</div>"
      ],
      "text/plain": [
       "   Ending Station ID  Starting Station ID  Duration  Duration_min  Distance  \\\n",
       "0                  0                    1        77            77        77   \n",
       "1                  0                    2        55            55        55   \n",
       "2                  0                    3        65            65        65   \n",
       "3                  0                    4         4             4         4   \n",
       "4                  0                    5        50            50        50   \n",
       "\n",
       "   Passholder Type  \n",
       "0               77  \n",
       "1               55  \n",
       "2               65  \n",
       "3                4  \n",
       "4               50  "
      ]
     },
     "execution_count": 53,
     "metadata": {},
     "output_type": "execute_result"
    }
   ],
   "source": [
    "discount = 1.75\n",
    "train = ndata[['Ending Station ID','Starting Station ID','Duration', 'Duration_min', 'Distance','Passholder Type']].groupby(['Ending Station ID','Starting Station ID'],as_index=False).count()\n",
    "# train = ndata[['Ending Station ID','Starting Station ID','Duration_min', 'Distance','Passholder Type']]\n",
    "# train['Discounts'] = discount * (np.floor(train['Duration_min']/30)+1)\n",
    "train[:5]"
   ]
  },
  {
   "cell_type": "code",
   "execution_count": 55,
   "metadata": {},
   "outputs": [
    {
     "data": {
      "text/html": [
       "<div>\n",
       "<style scoped>\n",
       "    .dataframe tbody tr th:only-of-type {\n",
       "        vertical-align: middle;\n",
       "    }\n",
       "\n",
       "    .dataframe tbody tr th {\n",
       "        vertical-align: top;\n",
       "    }\n",
       "\n",
       "    .dataframe thead th {\n",
       "        text-align: right;\n",
       "    }\n",
       "</style>\n",
       "<table border=\"1\" class=\"dataframe\">\n",
       "  <thead>\n",
       "    <tr style=\"text-align: right;\">\n",
       "      <th></th>\n",
       "      <th>Ending Station ID</th>\n",
       "      <th>Starting Station ID</th>\n",
       "      <th>Duration</th>\n",
       "      <th>Duration_min</th>\n",
       "      <th>Distance</th>\n",
       "      <th>Passholder Type</th>\n",
       "    </tr>\n",
       "  </thead>\n",
       "  <tbody>\n",
       "    <tr>\n",
       "      <th>0</th>\n",
       "      <td>0</td>\n",
       "      <td>1</td>\n",
       "      <td>40500</td>\n",
       "      <td>675.0</td>\n",
       "      <td>27.041017</td>\n",
       "      <td>73</td>\n",
       "    </tr>\n",
       "    <tr>\n",
       "      <th>1</th>\n",
       "      <td>0</td>\n",
       "      <td>2</td>\n",
       "      <td>69060</td>\n",
       "      <td>1151.0</td>\n",
       "      <td>22.418340</td>\n",
       "      <td>42</td>\n",
       "    </tr>\n",
       "    <tr>\n",
       "      <th>2</th>\n",
       "      <td>0</td>\n",
       "      <td>3</td>\n",
       "      <td>67080</td>\n",
       "      <td>1118.0</td>\n",
       "      <td>22.970767</td>\n",
       "      <td>49</td>\n",
       "    </tr>\n",
       "    <tr>\n",
       "      <th>3</th>\n",
       "      <td>0</td>\n",
       "      <td>4</td>\n",
       "      <td>6840</td>\n",
       "      <td>114.0</td>\n",
       "      <td>4.684487</td>\n",
       "      <td>1</td>\n",
       "    </tr>\n",
       "    <tr>\n",
       "      <th>4</th>\n",
       "      <td>0</td>\n",
       "      <td>5</td>\n",
       "      <td>144840</td>\n",
       "      <td>2414.0</td>\n",
       "      <td>51.187065</td>\n",
       "      <td>18</td>\n",
       "    </tr>\n",
       "  </tbody>\n",
       "</table>\n",
       "</div>"
      ],
      "text/plain": [
       "   Ending Station ID  Starting Station ID  Duration  Duration_min   Distance  \\\n",
       "0                  0                    1     40500         675.0  27.041017   \n",
       "1                  0                    2     69060        1151.0  22.418340   \n",
       "2                  0                    3     67080        1118.0  22.970767   \n",
       "3                  0                    4      6840         114.0   4.684487   \n",
       "4                  0                    5    144840        2414.0  51.187065   \n",
       "\n",
       "   Passholder Type  \n",
       "0               73  \n",
       "1               42  \n",
       "2               49  \n",
       "3                1  \n",
       "4               18  "
      ]
     },
     "execution_count": 55,
     "metadata": {},
     "output_type": "execute_result"
    }
   ],
   "source": [
    "train2 = ndata[['Ending Station ID','Starting Station ID','Duration', 'Duration_min', 'Distance','Passholder Type']].groupby(['Ending Station ID','Starting Station ID'],as_index=False).sum()\n",
    "train2.head(5)"
   ]
  },
  {
   "cell_type": "markdown",
   "metadata": {},
   "source": [
    "### Reference : Random Forest Model for predicting 'Passholder' types."
   ]
  },
  {
   "cell_type": "code",
   "execution_count": 67,
   "metadata": {},
   "outputs": [
    {
     "name": "stdout",
     "output_type": "stream",
     "text": [
      "              precision    recall  f1-score   support\n",
      "\n",
      "           0       1.00      1.00      1.00      8055\n",
      "           1       1.00      1.00      1.00     21073\n",
      "\n",
      "   micro avg       1.00      1.00      1.00     29128\n",
      "   macro avg       1.00      1.00      1.00     29128\n",
      "weighted avg       1.00      1.00      1.00     29128\n",
      "\n"
     ]
    },
    {
     "name": "stderr",
     "output_type": "stream",
     "text": [
      "/anaconda3/envs/yulenv/lib/python3.6/site-packages/sklearn/preprocessing/data.py:645: DataConversionWarning: Data with input dtype int64, float64 were all converted to float64 by StandardScaler.\n",
      "  return self.partial_fit(X, y)\n",
      "/anaconda3/envs/yulenv/lib/python3.6/site-packages/sklearn/base.py:464: DataConversionWarning: Data with input dtype int64, float64 were all converted to float64 by StandardScaler.\n",
      "  return self.fit(X, **fit_params).transform(X)\n",
      "/anaconda3/envs/yulenv/lib/python3.6/site-packages/ipykernel_launcher.py:12: DataConversionWarning: Data with input dtype int64, float64 were all converted to float64 by StandardScaler.\n",
      "  if sys.path[0] == '':\n"
     ]
    }
   ],
   "source": [
    "X = train.iloc[:, [1,2,3,4]]\n",
    "y = train['Passholder Type']\n",
    "\n",
    "# Splitting the dataset into the Training set and Test set\n",
    "from sklearn.model_selection import train_test_split\n",
    "X_train, X_test, y_train, y_test = train_test_split(X, y, test_size = 0.33, random_state = 0)\n",
    "\n",
    "# Feature Scaling\n",
    "from sklearn.preprocessing import StandardScaler\n",
    "sc = StandardScaler()\n",
    "X_train = sc.fit_transform(X_train)\n",
    "X_test = sc.transform(X_test)\n",
    "\n",
    "# Fitting Random Forest Classification to the Training set\n",
    "from sklearn.ensemble import AdaBoostClassifier\n",
    "classifier = AdaBoostClassifier(n_estimators = 500)\n",
    "classifier.fit(X_train, y_train)\n",
    "\n",
    "# Predicting the Test set results\n",
    "y_pred = classifier.predict(X_test)\n",
    "sc.get_params()\n",
    "from sklearn.metrics import classification_report\n",
    "print(classification_report(y_test,y_pred))"
   ]
  },
  {
   "cell_type": "code",
   "execution_count": 80,
   "metadata": {},
   "outputs": [
    {
     "name": "stdout",
     "output_type": "stream",
     "text": [
      "[[    0  2641   479]\n",
      " [    0 23856  2702]\n",
      " [    0  6278  7182]]\n"
     ]
    }
   ],
   "source": [
    "from sklearn.metrics import classification_report\n",
    "from sklearn.metrics import confusion_matrix\n",
    "print(confusion_matrix(y_test,y_pred))"
   ]
  },
  {
   "cell_type": "code",
   "execution_count": 101,
   "metadata": {},
   "outputs": [
    {
     "data": {
      "text/plain": [
       "1    32775\n",
       "2    10363\n",
       "Name: 0, dtype: int64"
      ]
     },
     "execution_count": 101,
     "metadata": {},
     "output_type": "execute_result"
    }
   ],
   "source": [
    "y_pred=pd.DataFrame(y_pred)\n",
    "y_pred[0].value_counts()"
   ]
  },
  {
   "cell_type": "markdown",
   "metadata": {},
   "source": [
    "### Adapting Random Forest Model for new price policies (1)"
   ]
  },
  {
   "cell_type": "code",
   "execution_count": 81,
   "metadata": {},
   "outputs": [
    {
     "name": "stdout",
     "output_type": "stream",
     "text": [
      "Annual utility is 0.42, monthly utility is 0.67\n"
     ]
    }
   ],
   "source": [
    "# New Minimum Utility for buying each Pass a day\n",
    "base_price = 4 ; base_time = 60 # in minutes\n",
    "\n",
    "util_annual = (base_price*np.ceil(150/base_price))/365\n",
    "util_month = (base_price*np.ceil(17/base_price))/30\n",
    "util_daily = base_price*2 # since the avergae min. is 42.67\n",
    "print(\"Annual utility is %.2f, monthly utility is %.2f\"%(util_annual,util_month))"
   ]
  },
  {
   "cell_type": "code",
   "execution_count": 82,
   "metadata": {},
   "outputs": [],
   "source": [
    "ndata_scenario1 = ndata.copy()\n",
    "ndata_scenario1['Price1'] = base_price * (np.floor(ndata_scenario1['Duration_min']/base_time)+1) # Price for Walk-up\n",
    "ndata_scenario1['Price2'] = base_price * np.floor((ndata_scenario1['Duration_min']/base_time)) + util_annual\n",
    "# Price for Flex Pass\n",
    "ndata_scenario1['Price3'] = base_price * np.floor((ndata_scenario1['Duration_min']/base_time)) + util_month\n",
    "# Price for Monthly Pass"
   ]
  },
  {
   "cell_type": "code",
   "execution_count": 83,
   "metadata": {
    "scrolled": true
   },
   "outputs": [
    {
     "data": {
      "text/html": [
       "<div>\n",
       "<style scoped>\n",
       "    .dataframe tbody tr th:only-of-type {\n",
       "        vertical-align: middle;\n",
       "    }\n",
       "\n",
       "    .dataframe tbody tr th {\n",
       "        vertical-align: top;\n",
       "    }\n",
       "\n",
       "    .dataframe thead th {\n",
       "        text-align: right;\n",
       "    }\n",
       "</style>\n",
       "<table border=\"1\" class=\"dataframe\">\n",
       "  <thead>\n",
       "    <tr style=\"text-align: right;\">\n",
       "      <th></th>\n",
       "      <th>Duration</th>\n",
       "      <th>Start Time</th>\n",
       "      <th>Starting Station ID</th>\n",
       "      <th>Ending Station ID</th>\n",
       "      <th>Plan Duration</th>\n",
       "      <th>Trip Route Category</th>\n",
       "      <th>Passholder Type</th>\n",
       "      <th>Distance</th>\n",
       "      <th>Duration_min</th>\n",
       "      <th>Price1</th>\n",
       "      <th>Price2</th>\n",
       "      <th>Price3</th>\n",
       "      <th>Passholder Type_1</th>\n",
       "      <th>Trip Route Category_1</th>\n",
       "      <th>Starting Station ID_1</th>\n",
       "      <th>Ending Station ID_1</th>\n",
       "    </tr>\n",
       "  </thead>\n",
       "  <tbody>\n",
       "    <tr>\n",
       "      <th>0</th>\n",
       "      <td>180.0</td>\n",
       "      <td>2016-07-07 04:17:00</td>\n",
       "      <td>3014.0</td>\n",
       "      <td>3014.0</td>\n",
       "      <td>30.0</td>\n",
       "      <td>Round Trip</td>\n",
       "      <td>Monthly Pass</td>\n",
       "      <td>0.0</td>\n",
       "      <td>3.0</td>\n",
       "      <td>4.0</td>\n",
       "      <td>0.416438</td>\n",
       "      <td>0.666667</td>\n",
       "      <td>1</td>\n",
       "      <td>1</td>\n",
       "      <td>7</td>\n",
       "      <td>7</td>\n",
       "    </tr>\n",
       "    <tr>\n",
       "      <th>1</th>\n",
       "      <td>1980.0</td>\n",
       "      <td>2016-07-07 06:00:00</td>\n",
       "      <td>3014.0</td>\n",
       "      <td>3014.0</td>\n",
       "      <td>30.0</td>\n",
       "      <td>Round Trip</td>\n",
       "      <td>Monthly Pass</td>\n",
       "      <td>0.0</td>\n",
       "      <td>33.0</td>\n",
       "      <td>4.0</td>\n",
       "      <td>0.416438</td>\n",
       "      <td>0.666667</td>\n",
       "      <td>1</td>\n",
       "      <td>1</td>\n",
       "      <td>7</td>\n",
       "      <td>7</td>\n",
       "    </tr>\n",
       "    <tr>\n",
       "      <th>2</th>\n",
       "      <td>300.0</td>\n",
       "      <td>2016-07-07 10:32:00</td>\n",
       "      <td>3016.0</td>\n",
       "      <td>3016.0</td>\n",
       "      <td>365.0</td>\n",
       "      <td>Round Trip</td>\n",
       "      <td>Flex Pass</td>\n",
       "      <td>0.0</td>\n",
       "      <td>5.0</td>\n",
       "      <td>4.0</td>\n",
       "      <td>0.416438</td>\n",
       "      <td>0.666667</td>\n",
       "      <td>0</td>\n",
       "      <td>1</td>\n",
       "      <td>8</td>\n",
       "      <td>8</td>\n",
       "    </tr>\n",
       "    <tr>\n",
       "      <th>3</th>\n",
       "      <td>10860.0</td>\n",
       "      <td>2016-07-07 10:37:00</td>\n",
       "      <td>3016.0</td>\n",
       "      <td>3016.0</td>\n",
       "      <td>365.0</td>\n",
       "      <td>Round Trip</td>\n",
       "      <td>Flex Pass</td>\n",
       "      <td>0.0</td>\n",
       "      <td>181.0</td>\n",
       "      <td>16.0</td>\n",
       "      <td>12.416438</td>\n",
       "      <td>12.666667</td>\n",
       "      <td>0</td>\n",
       "      <td>1</td>\n",
       "      <td>8</td>\n",
       "      <td>8</td>\n",
       "    </tr>\n",
       "    <tr>\n",
       "      <th>4</th>\n",
       "      <td>420.0</td>\n",
       "      <td>2016-07-07 12:51:00</td>\n",
       "      <td>3032.0</td>\n",
       "      <td>3032.0</td>\n",
       "      <td>0.0</td>\n",
       "      <td>Round Trip</td>\n",
       "      <td>Walk-up</td>\n",
       "      <td>0.0</td>\n",
       "      <td>7.0</td>\n",
       "      <td>4.0</td>\n",
       "      <td>0.416438</td>\n",
       "      <td>0.666667</td>\n",
       "      <td>2</td>\n",
       "      <td>1</td>\n",
       "      <td>23</td>\n",
       "      <td>23</td>\n",
       "    </tr>\n",
       "  </tbody>\n",
       "</table>\n",
       "</div>"
      ],
      "text/plain": [
       "   Duration          Start Time Starting Station ID Ending Station ID  \\\n",
       "0     180.0 2016-07-07 04:17:00              3014.0            3014.0   \n",
       "1    1980.0 2016-07-07 06:00:00              3014.0            3014.0   \n",
       "2     300.0 2016-07-07 10:32:00              3016.0            3016.0   \n",
       "3   10860.0 2016-07-07 10:37:00              3016.0            3016.0   \n",
       "4     420.0 2016-07-07 12:51:00              3032.0            3032.0   \n",
       "\n",
       "  Plan Duration Trip Route Category Passholder Type  Distance  Duration_min  \\\n",
       "0          30.0          Round Trip    Monthly Pass       0.0           3.0   \n",
       "1          30.0          Round Trip    Monthly Pass       0.0          33.0   \n",
       "2         365.0          Round Trip       Flex Pass       0.0           5.0   \n",
       "3         365.0          Round Trip       Flex Pass       0.0         181.0   \n",
       "4           0.0          Round Trip         Walk-up       0.0           7.0   \n",
       "\n",
       "   Price1     Price2     Price3  Passholder Type_1  Trip Route Category_1  \\\n",
       "0     4.0   0.416438   0.666667                  1                      1   \n",
       "1     4.0   0.416438   0.666667                  1                      1   \n",
       "2     4.0   0.416438   0.666667                  0                      1   \n",
       "3    16.0  12.416438  12.666667                  0                      1   \n",
       "4     4.0   0.416438   0.666667                  2                      1   \n",
       "\n",
       "   Starting Station ID_1  Ending Station ID_1  \n",
       "0                      7                    7  \n",
       "1                      7                    7  \n",
       "2                      8                    8  \n",
       "3                      8                    8  \n",
       "4                     23                   23  "
      ]
     },
     "execution_count": 83,
     "metadata": {},
     "output_type": "execute_result"
    }
   ],
   "source": [
    "ndata_scenario1.head()"
   ]
  },
  {
   "cell_type": "code",
   "execution_count": 102,
   "metadata": {
    "scrolled": true
   },
   "outputs": [
    {
     "name": "stderr",
     "output_type": "stream",
     "text": [
      "/anaconda3/envs/yulenv/lib/python3.6/site-packages/sklearn/preprocessing/data.py:645: DataConversionWarning: Data with input dtype int64, float64 were all converted to float64 by StandardScaler.\n",
      "  return self.partial_fit(X, y)\n",
      "/anaconda3/envs/yulenv/lib/python3.6/site-packages/sklearn/base.py:464: DataConversionWarning: Data with input dtype int64, float64 were all converted to float64 by StandardScaler.\n",
      "  return self.fit(X, **fit_params).transform(X)\n",
      "/anaconda3/envs/yulenv/lib/python3.6/site-packages/ipykernel_launcher.py:10: DataConversionWarning: Data with input dtype int64, float64 were all converted to float64 by StandardScaler.\n",
      "  # Remove the CWD from sys.path while we load stuff.\n"
     ]
    },
    {
     "name": "stdout",
     "output_type": "stream",
     "text": [
      "              precision    recall  f1-score   support\n",
      "\n",
      "           0       0.00      0.00      0.00      3120\n",
      "           1       0.67      0.90      0.77     26558\n",
      "           2       0.59      0.33      0.43     13460\n",
      "\n",
      "   micro avg       0.66      0.66      0.66     43138\n",
      "   macro avg       0.42      0.41      0.40     43138\n",
      "weighted avg       0.60      0.66      0.61     43138\n",
      "\n",
      "[[    0  2699   421]\n",
      " [    0 23798  2760]\n",
      " [    0  8965  4495]]\n"
     ]
    },
    {
     "name": "stderr",
     "output_type": "stream",
     "text": [
      "/anaconda3/envs/yulenv/lib/python3.6/site-packages/sklearn/metrics/classification.py:1143: UndefinedMetricWarning: Precision and F-score are ill-defined and being set to 0.0 in labels with no predicted samples.\n",
      "  'precision', 'predicted', average, warn_for)\n"
     ]
    }
   ],
   "source": [
    "X1 = ndata_scenario1.iloc[:, [7,9,10,11,13,14,15]]\n",
    "y = ndata.iloc[:, 12]\n",
    "\n",
    "# Splitting the dataset into the Training set and Test set\n",
    "from sklearn.model_selection import train_test_split\n",
    "X1_train, X1_test, y_train, y_test = train_test_split(X1, y, test_size = 0.33, random_state = 0)\n",
    "\n",
    "sc = StandardScaler()\n",
    "X1_train = sc.fit_transform(X1_train)\n",
    "X1_test = sc.transform(X1_test)\n",
    "\n",
    "scenario1 = classifier.predict(X1_test)\n",
    "from sklearn.metrics import classification_report\n",
    "print(classification_report(y_test,scenario1))\n",
    "print(confusion_matrix(y_test,scenario1))"
   ]
  },
  {
   "cell_type": "code",
   "execution_count": 103,
   "metadata": {
    "scrolled": true
   },
   "outputs": [
    {
     "data": {
      "text/plain": [
       "1    35462\n",
       "2     7676\n",
       "Name: 0, dtype: int64"
      ]
     },
     "execution_count": 103,
     "metadata": {},
     "output_type": "execute_result"
    }
   ],
   "source": [
    "scenario1=pd.DataFrame(scenario1)\n",
    "scenario1[0].value_counts()"
   ]
  },
  {
   "cell_type": "markdown",
   "metadata": {},
   "source": [
    "### Adapting Random Forest Model for new price policies (2)"
   ]
  },
  {
   "cell_type": "code",
   "execution_count": 104,
   "metadata": {
    "scrolled": true
   },
   "outputs": [
    {
     "name": "stdout",
     "output_type": "stream",
     "text": [
      "Annual utility is 0.41, monthly utility is 0.57\n"
     ]
    },
    {
     "name": "stderr",
     "output_type": "stream",
     "text": [
      "/anaconda3/envs/yulenv/lib/python3.6/site-packages/sklearn/preprocessing/data.py:645: DataConversionWarning: Data with input dtype int64, float64 were all converted to float64 by StandardScaler.\n",
      "  return self.partial_fit(X, y)\n",
      "/anaconda3/envs/yulenv/lib/python3.6/site-packages/sklearn/base.py:464: DataConversionWarning: Data with input dtype int64, float64 were all converted to float64 by StandardScaler.\n",
      "  return self.fit(X, **fit_params).transform(X)\n",
      "/anaconda3/envs/yulenv/lib/python3.6/site-packages/ipykernel_launcher.py:25: DataConversionWarning: Data with input dtype int64, float64 were all converted to float64 by StandardScaler.\n"
     ]
    },
    {
     "name": "stdout",
     "output_type": "stream",
     "text": [
      "              precision    recall  f1-score   support\n",
      "\n",
      "           0       0.00      0.00      0.00      3120\n",
      "           1       0.74      0.86      0.80     26558\n",
      "           2       0.65      0.58      0.61     13460\n",
      "\n",
      "   micro avg       0.71      0.71      0.71     43138\n",
      "   macro avg       0.46      0.48      0.47     43138\n",
      "weighted avg       0.66      0.71      0.68     43138\n",
      "\n",
      "[[    0  2466   654]\n",
      " [    0 22903  3655]\n",
      " [    0  5603  7857]]\n"
     ]
    },
    {
     "name": "stderr",
     "output_type": "stream",
     "text": [
      "/anaconda3/envs/yulenv/lib/python3.6/site-packages/sklearn/metrics/classification.py:1143: UndefinedMetricWarning: Precision and F-score are ill-defined and being set to 0.0 in labels with no predicted samples.\n",
      "  'precision', 'predicted', average, warn_for)\n"
     ]
    }
   ],
   "source": [
    "# New Minimum Utility for buying each Pass a day\n",
    "base_price = 0.5 ; base_time = 10 # in minutes\n",
    "\n",
    "util_annual = (base_price*np.ceil(150/base_price))/365\n",
    "util_month = (base_price*np.ceil(17/base_price))/30\n",
    "util_daily = base_price*2 # since the avergae min. is 42.67\n",
    "print(\"Annual utility is %.2f, monthly utility is %.2f\"%(util_annual,util_month))\n",
    "\n",
    "ndata_scenario2 = ndata.copy()\n",
    "ndata_scenario2['Price1'] = base_price * (np.floor(ndata_scenario2['Duration_min']/base_time)+1) # Price for Walk-up\n",
    "ndata_scenario2['Price2'] = base_price * np.floor(ndata_scenario2['Duration_min']/base_time) + util_annual\n",
    "# Price for Flex Pass\n",
    "ndata_scenario2['Price3'] = base_price * np.floor(ndata_scenario2['Duration_min']/base_time) + util_month\n",
    "# Price for Monthly Pass\n",
    "\n",
    "X2 = ndata_scenario2.iloc[:, [7,9,10,11,13,14,15]]\n",
    "y = ndata.iloc[:, 12]\n",
    "\n",
    "# Splitting the dataset into the Training set and Test set\n",
    "from sklearn.model_selection import train_test_split\n",
    "X2_train, X2_test, y_train, y_test = train_test_split(X2, y, test_size = 0.33, random_state = 0)\n",
    "\n",
    "sc = StandardScaler()\n",
    "X2_train = sc.fit_transform(X2_train)\n",
    "X2_test = sc.transform(X2_test)\n",
    "\n",
    "scenario2 = classifier.predict(X2_test)\n",
    "from sklearn.metrics import classification_report\n",
    "print(classification_report(y_test,scenario2))\n",
    "print(confusion_matrix(y_test,scenario2))"
   ]
  },
  {
   "cell_type": "code",
   "execution_count": 105,
   "metadata": {
    "scrolled": true
   },
   "outputs": [
    {
     "data": {
      "text/plain": [
       "1    30972\n",
       "2    12166\n",
       "Name: 0, dtype: int64"
      ]
     },
     "execution_count": 105,
     "metadata": {},
     "output_type": "execute_result"
    }
   ],
   "source": [
    "scenario2=pd.DataFrame(scenario2)\n",
    "scenario2[0].value_counts()"
   ]
  }
 ],
 "metadata": {
  "kernelspec": {
   "display_name": "Python 3",
   "language": "python",
   "name": "python3"
  },
  "language_info": {
   "codemirror_mode": {
    "name": "ipython",
    "version": 3
   },
   "file_extension": ".py",
   "mimetype": "text/x-python",
   "name": "python",
   "nbconvert_exporter": "python",
   "pygments_lexer": "ipython3",
   "version": "3.6.8"
  }
 },
 "nbformat": 4,
 "nbformat_minor": 2
}
